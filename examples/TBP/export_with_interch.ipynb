{
 "cells": [
  {
   "cell_type": "markdown",
   "metadata": {},
   "source": [
    " <div class=\"alert alert-block alert-info\">\n",
    "    <b>Note:</b> \n",
    "    Interchange is in the process of replacing ParmEd in many workflows, but it still in an alpha testing phase. Our internal tests indicate it is reliable for many small-molecule systems, but it is not yet reliable for complex, multi-component systems and there are likely still rough edges throughout. Feedback is welcome on the <a href=https://github.com/openforcefield/openff-interchange/issues/>Interchange issue tracker.</a></div>"
   ]
  },
  {
   "cell_type": "markdown",
   "metadata": {},
   "source": [
    "## Using OpenFF force fields in Amber and GROMACS\n",
    "\n",
    "The Open Forcefield Toolkit can create parametrized `openmm.System` objects that can be natively simulated with OpenMM. This example shows the Interchange project can enable parallel workflows using Amber and GROMACS."
   ]
  },
  {
   "cell_type": "markdown",
   "metadata": {
    "tags": []
   },
   "source": [
    "### Preparing an OpenFF Topology\n",
    "\n",
    "We start by loading a PDB file containing one copy of ethanol and cyclohexane. Our goal is to create an OpenFF `Topology` object describing this system that we can parametrize with the SMIRNOFF-format \"Sage\" force field.\n",
    "\n",
    "The two `Molecule` objects created from the SMILES strings can contain information such as formal charges and stereochemistry that is not included in a PDB file. These objects are passed to the PDB loading function via the `unique_molecules` argument. In this example, partial charges are not explicitly given, and `ForceField` will assign AM1/BCC charges as specified by the \"Sage\" force field. Note that the OpenFF Toolkit produces partial charges that do not depend on the input conformation of parameterized molecules. See the [FAQ](https://open-forcefield-toolkit.readthedocs.io/en/latest/faq.html#the-partial-charges-generated-by-the-toolkit-don-t-seem-to-depend-on-the-molecule-s-conformation-is-this-a-bug) for more information."
   ]
  },
  {
   "cell_type": "code",
   "execution_count": 1,
   "metadata": {},
   "outputs": [
    {
     "name": "stderr",
     "output_type": "stream",
     "text": [
      "LICENSE: Could not open license file specified by OE_LICENSE environment variable \"/home/USERNAME/oe_license.txt\"\n",
      "LICENSE: Could not open license file \"oe_license.txt\" in local directory\n",
      "LICENSE: N.B. OE_DIR environment variable is not set\n",
      "LICENSE: No product keys!\n",
      "LICENSE: No product keys!\n",
      "LICENSE: No product keys!\n",
      "The OpenEye Toolkits are found to be installed but not licensed and therefore will not be used.\n",
      "The OpenEye Toolkits require a (free for academics) license, see https://docs.eyesopen.com/toolkits/python/quickstart-python/license.html\n",
      "LICENSE: No product keys!\n"
     ]
    }
   ],
   "source": [
    "from openff.toolkit import ForceField, Molecule, Topology\n",
    "from openff.units import Quantity, unit\n",
    "from openmm import unit as openmm_unit"
   ]
  },
  {
   "cell_type": "code",
   "execution_count": 2,
   "metadata": {},
   "outputs": [
    {
     "data": {
      "text/plain": [
       "<openff.toolkit.topology.topology.Topology at 0x146305890>"
      ]
     },
     "execution_count": 2,
     "metadata": {},
     "output_type": "execute_result"
    }
   ],
   "source": [
    "\n",
    "from rdkit import Chem\n",
    "mol = Chem.MolFromPDBFile('file.pdb', removeHs=False)\n",
    "Chem.MolToPDBFile(mol, 'file_CONECT.pdb')\n",
    "from openff.toolkit import Molecule, Topology\n",
    "TBP = Molecule.from_smiles(\"O=P(OCCCC)(OCCCC)OCCCC\")\n",
    "topology = Topology.from_pdb( \"file_CONECT.pdb\", unique_molecules=[TBP] )\n",
    "\n",
    "\n",
    "topology"
   ]
  },
  {
   "cell_type": "code",
   "execution_count": 3,
   "metadata": {},
   "outputs": [],
   "source": [
    "topology.box_vectors = [30, 30, 30] * unit.angstrom\n",
    "nonbondedCutoff=15* unit.angstrom"
   ]
  },
  {
   "cell_type": "markdown",
   "metadata": {},
   "source": [
    "### Preparing an OpenFF ForceField\n",
    "\n",
    "Once the `ForceField` class is imported, the only decision to make is which force field to use. An exhaustive list of force fields released by the Open Force Field Initiative can be found [here](https://github.com/openforcefield/openff-forcefields#how-to-cite).\n",
    "\n",
    "Here we will use force field from the \"Sage\" line."
   ]
  },
  {
   "cell_type": "code",
   "execution_count": 1,
   "metadata": {},
   "outputs": [
    {
     "ename": "NameError",
     "evalue": "name 'ForceField' is not defined",
     "output_type": "error",
     "traceback": [
      "\u001b[0;31m---------------------------------------------------------------------------\u001b[0m",
      "\u001b[0;31mNameError\u001b[0m                                 Traceback (most recent call last)",
      "Cell \u001b[0;32mIn[1], line 1\u001b[0m\n\u001b[0;32m----> 1\u001b[0m forcefield \u001b[38;5;241m=\u001b[39m \u001b[43mForceField\u001b[49m(\u001b[38;5;124m\"\u001b[39m\u001b[38;5;124mopenff-2.1.0.offxml\u001b[39m\u001b[38;5;124m\"\u001b[39m)\n\u001b[1;32m      2\u001b[0m forcefield\n",
      "\u001b[0;31mNameError\u001b[0m: name 'ForceField' is not defined"
     ]
    }
   ],
   "source": [
    "forcefield = ForceField(\"openff-2.1.0.offxml\")\n",
    "forcefield"
   ]
  },
  {
   "cell_type": "markdown",
   "metadata": {},
   "source": [
    "### Preparing an OpenMM System\n",
    "\n",
    "Once a force field and topology have been loaded, an `openmm.System` can be generated natively with the OpenFF Toolkit."
   ]
  },
  {
   "cell_type": "code",
   "execution_count": 8,
   "metadata": {},
   "outputs": [
    {
     "data": {
      "text/plain": [
       "<openmm.openmm.System; proxy of <Swig Object of type 'OpenMM::System *' at 0x1529bdc20> >"
      ]
     },
     "execution_count": 8,
     "metadata": {},
     "output_type": "execute_result"
    }
   ],
   "source": [
    "omm_system = forcefield.create_openmm_system(topology)\n",
    "omm_system"
   ]
  },
  {
   "cell_type": "markdown",
   "metadata": {
    "tags": []
   },
   "source": [
    "### Preparing an Interchange object\n",
    "\n",
    "To exports to engines other than OpenMM, we will make use of the [Interchange](https://openff-interchange.readthedocs.io/) project. There is a high-level `Interchange.from_smirnoff` function that consumes OpenFF Toolkit and ForceField objects and produces an `Interchange` object which can then be exported to formats understood by other molecular simulation engines. This extra step is needed to provide a clean interface between _applied_ parameters and engines. Note also that this step does not require an OpenMM System to be generated; `ForceField.create_openmm_system` does not need to be called to use Amber and GROMACS."
   ]
  },
  {
   "cell_type": "code",
   "execution_count": 9,
   "metadata": {},
   "outputs": [
    {
     "data": {
      "text/plain": [
       "Interchange with 7 collections, periodic topology with 44 atoms."
      ]
     },
     "execution_count": 9,
     "metadata": {},
     "output_type": "execute_result"
    }
   ],
   "source": [
    "from openff.interchange import Interchange\n",
    "\n",
    "interchange = Interchange.from_smirnoff(\n",
    "    force_field=forcefield,\n",
    "    topology=topology,\n",
    ")\n",
    "interchange"
   ]
  },
  {
   "cell_type": "markdown",
   "metadata": {},
   "source": [
    "### Exporting to Amber and GROMACS files\n",
    "\n",
    "Once an `Interchange` object has been constructed, its API can be used to export to files understood by GROMACS, Amber, and more."
   ]
  },
  {
   "cell_type": "code",
   "execution_count": 10,
   "metadata": {},
   "outputs": [],
   "source": [
    "# Export AMBER files.\n",
    "interchange.to_prmtop(\"system.prmtop\")\n",
    "interchange.to_inpcrd(\"system.inpcrd\")\n",
    "\n",
    "# Export GROMACS files.\n",
    "interchange.to_top(\"system.top\")\n",
    "interchange.to_gro(\"system.gro\")"
   ]
  },
  {
   "cell_type": "markdown",
   "metadata": {},
   "source": [
    "### Validating the conversion to Amber files\n",
    "\n",
    "The Interchange project includes functions that take in an `Interchange` object and call out to simulation engines to run single-point energy calculations (with no minimization or dynamics) for the purpose of validating the export layer with each engine. Under the hood, each of these functions calls API points like those used above while converting to files understood by each engine. These rely on having each engine installed and accessible in the current `$PATH`."
   ]
  },
  {
   "cell_type": "code",
   "execution_count": 11,
   "metadata": {},
   "outputs": [],
   "source": [
    "from openff.interchange.drivers import get_amber_energies, get_openmm_energies"
   ]
  },
  {
   "cell_type": "code",
   "execution_count": 12,
   "metadata": {
    "scrolled": true
   },
   "outputs": [
    {
     "data": {
      "text/plain": [
       "{'Bond': 3.856400101835694 <Unit('kilojoule / mole')>,\n",
       " 'Angle': 42.267547941828205 <Unit('kilojoule / mole')>,\n",
       " 'Torsion': 300.3869711608175 <Unit('kilojoule / mole')>,\n",
       " 'Nonbonded': -316.3951029849092 <Unit('kilojoule / mole')>}"
      ]
     },
     "execution_count": 12,
     "metadata": {},
     "output_type": "execute_result"
    }
   ],
   "source": [
    "openmm_energies = get_openmm_energies(interchange)\n",
    "openmm_energies.energies"
   ]
  },
  {
   "cell_type": "code",
   "execution_count": null,
   "metadata": {
    "scrolled": true
   },
   "outputs": [],
   "source": [
    "amber_energies = get_amber_energies(interchange)\n",
    "amber_energies.energies"
   ]
  },
  {
   "cell_type": "markdown",
   "metadata": {},
   "source": [
    "### Appendix: Validating the conversion to GROMACS and LAMMPS files\n",
    "\n",
    "If GROMACS and/or LAMMPS are installed on your machine, the same comparisons can also take place with those engines. They are available via `conda` by running a command like:\n",
    "\n",
    "```conda install \"gromacs >=2021=nompi*\" lammps -c conda-forge```"
   ]
  },
  {
   "cell_type": "code",
   "execution_count": 20,
   "metadata": {},
   "outputs": [],
   "source": [
    "from distutils.spawn import find_executable\n",
    "from pprint import pprint\n",
    "\n",
    "from openff.interchange.drivers import get_gromacs_energies, get_lammps_energies"
   ]
  },
  {
   "cell_type": "code",
   "execution_count": 21,
   "metadata": {},
   "outputs": [
    {
     "name": "stdout",
     "output_type": "stream",
     "text": [
      "{'Angle': <Quantity(10.102186, 'kilocalorie_per_mole')>,\n",
      " 'Bond': <Quantity(1.2340399, 'kilocalorie_per_mole')>,\n",
      " 'Electrostatics': <Quantity(-75.60622, 'kilocalorie_per_mole')>,\n",
      " 'Torsion': <Quantity(71.794209, 'kilocalorie_per_mole')>,\n",
      " 'vdW': <Quantity(-0.0319007708, 'kilocalorie_per_mole')>}\n"
     ]
    }
   ],
   "source": [
    "if find_executable(\"lmp_serial\"):\n",
    "    pprint(get_lammps_energies(interchange).energies)"
   ]
  },
  {
   "cell_type": "code",
   "execution_count": 22,
   "metadata": {},
   "outputs": [
    {
     "name": "stdout",
     "output_type": "stream",
     "text": [
      "{'Angle': <Quantity(42.2679138, 'kilojoule / mole')>,\n",
      " 'Bond': <Quantity(3.85664272, 'kilojoule / mole')>,\n",
      " 'Electrostatics': <Quantity(-316.597072, 'kilojoule / mole')>,\n",
      " 'RBTorsion': <Quantity(0.0, 'kilojoule / mole')>,\n",
      " 'Torsion': <Quantity(300.387054, 'kilojoule / mole')>,\n",
      " 'vdW': <Quantity(0.0683389157, 'kilojoule / mole')>}\n"
     ]
    }
   ],
   "source": [
    "if find_executable(\"gmx\"):\n",
    "    pprint(get_gromacs_energies(interchange).energies)"
   ]
  },
  {
   "cell_type": "markdown",
   "metadata": {},
   "source": [
    "Finally, there is a helper function `get_summary_data` that will attempt to run drivers of each engine. A summary reported is prepared as a Pandas `DataFrame`."
   ]
  },
  {
   "cell_type": "code",
   "execution_count": 23,
   "metadata": {},
   "outputs": [
    {
     "data": {
      "text/html": [
       "<div>\n",
       "<style scoped>\n",
       "    .dataframe tbody tr th:only-of-type {\n",
       "        vertical-align: middle;\n",
       "    }\n",
       "\n",
       "    .dataframe tbody tr th {\n",
       "        vertical-align: top;\n",
       "    }\n",
       "\n",
       "    .dataframe thead th {\n",
       "        text-align: right;\n",
       "    }\n",
       "</style>\n",
       "<table border=\"1\" class=\"dataframe\">\n",
       "  <thead>\n",
       "    <tr style=\"text-align: right;\">\n",
       "      <th></th>\n",
       "      <th>Bond</th>\n",
       "      <th>Angle</th>\n",
       "      <th>Torsion</th>\n",
       "      <th>Electrostatics</th>\n",
       "      <th>vdW</th>\n",
       "      <th>RBTorsion</th>\n",
       "    </tr>\n",
       "  </thead>\n",
       "  <tbody>\n",
       "    <tr>\n",
       "      <th>OpenMM</th>\n",
       "      <td>3.856400</td>\n",
       "      <td>42.267548</td>\n",
       "      <td>300.386971</td>\n",
       "      <td>-316.436456</td>\n",
       "      <td>0.041356</td>\n",
       "      <td>NaN</td>\n",
       "    </tr>\n",
       "    <tr>\n",
       "      <th>Amber</th>\n",
       "      <td>3.856393</td>\n",
       "      <td>42.267605</td>\n",
       "      <td>300.386933</td>\n",
       "      <td>-316.424205</td>\n",
       "      <td>1.200808</td>\n",
       "      <td>NaN</td>\n",
       "    </tr>\n",
       "    <tr>\n",
       "      <th>GROMACS</th>\n",
       "      <td>3.856643</td>\n",
       "      <td>42.267914</td>\n",
       "      <td>300.387054</td>\n",
       "      <td>-316.597072</td>\n",
       "      <td>0.068339</td>\n",
       "      <td>0.0</td>\n",
       "    </tr>\n",
       "    <tr>\n",
       "      <th>LAMMPS</th>\n",
       "      <td>5.163223</td>\n",
       "      <td>42.267546</td>\n",
       "      <td>300.386970</td>\n",
       "      <td>-316.336424</td>\n",
       "      <td>-0.133473</td>\n",
       "      <td>NaN</td>\n",
       "    </tr>\n",
       "  </tbody>\n",
       "</table>\n",
       "</div>"
      ],
      "text/plain": [
       "             Bond      Angle     Torsion  Electrostatics       vdW  RBTorsion\n",
       "OpenMM   3.856400  42.267548  300.386971     -316.436456  0.041356        NaN\n",
       "Amber    3.856393  42.267605  300.386933     -316.424205  1.200808        NaN\n",
       "GROMACS  3.856643  42.267914  300.387054     -316.597072  0.068339        0.0\n",
       "LAMMPS   5.163223  42.267546  300.386970     -316.336424 -0.133473        NaN"
      ]
     },
     "execution_count": 23,
     "metadata": {},
     "output_type": "execute_result"
    }
   ],
   "source": [
    "from openff.interchange.drivers.all import get_summary_data\n",
    "\n",
    "get_summary_data(interchange)"
   ]
  },
  {
   "cell_type": "code",
   "execution_count": null,
   "metadata": {},
   "outputs": [],
   "source": []
  }
 ],
 "metadata": {
  "category": "parametrization_evaluation",
  "kernelspec": {
   "display_name": "Python 3 (ipykernel)",
   "language": "python",
   "name": "python3"
  },
  "language_info": {
   "codemirror_mode": {
    "name": "ipython",
    "version": 3
   },
   "file_extension": ".py",
   "mimetype": "text/x-python",
   "name": "python",
   "nbconvert_exporter": "python",
   "pygments_lexer": "ipython3",
   "version": "3.11.4"
  }
 },
 "nbformat": 4,
 "nbformat_minor": 4
}
