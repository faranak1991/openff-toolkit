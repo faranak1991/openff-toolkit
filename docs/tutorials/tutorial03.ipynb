{
  "cells": [
    {
      "cell_type": "markdown",
      "metadata": {
        "id": "YSV5DrHtlHp-",
        "pycharm": {
          "name": "#%% md\n"
        }
      },
      "source": [
        "# Tutorial 03 - Analysing Data Sets\n",
        "\n",
        "[![Open In Colab](https://colab.research.google.com/assets/colab-badge.svg)](https://colab.research.google.com/github/openforcefield/openff-evaluator/blob/main/docs/tutorials/tutorial03.ipynb)\n",
        "\n",
        "In this tutorial we will be analysing the results of the calculations which we performed in the [second tutorial](tutorial02.ipynb).\n",
        "The tutorial will cover:\n",
        "\n",
        "- comparing the estimated data set with the experimental data set.\n",
        "- plotting the two data sets."
      ]
    },
    {
      "cell_type": "markdown",
      "metadata": {
        "id": "pvunG4GblHqA"
      },
      "source": [
        "*Note: If you are running this tutorial in google colab you will need to run a setup script instead of following the\n",
        "installation instructions:*"
      ]
    },
    {
      "cell_type": "code",
      "execution_count": null,
      "metadata": {
        "id": "BRDQOezZlHqC",
        "pycharm": {
          "is_executing": false,
          "name": "#%%\n"
        }
      },
      "outputs": [],
      "source": [
        "# !wget https://raw.githubusercontent.com/openforcefield/openff-evaluator/main/docs/tutorials/colab_setup.ipynb\n",
        "# %run colab_setup.ipynb"
      ]
    },
    {
      "cell_type": "markdown",
      "metadata": {
        "id": "kETNDAhSlHqJ"
      },
      "source": [
        "For the sake of clarity all warnings will be disabled in this tutorial:"
      ]
    },
    {
      "cell_type": "code",
      "execution_count": 1,
      "metadata": {
        "id": "DDquWWI4lHqL",
        "pycharm": {
          "is_executing": false,
          "name": "#%%\n"
        }
      },
      "outputs": [],
      "source": [
        "import warnings\n",
        "\n",
        "warnings.filterwarnings(\"ignore\")\n",
        "import logging\n",
        "\n",
        "logging.getLogger(\"openff.toolkit\").setLevel(logging.ERROR)"
      ]
    },
    {
      "cell_type": "markdown",
      "metadata": {
        "id": "D5fOLXw1lHqS",
        "pycharm": {
          "name": "#%% md\n"
        }
      },
      "source": [
        "## Loading the Data Sets\n",
        "\n",
        "We will begin by loading both the experimental data set and the estimated data set:"
      ]
    },
    {
      "cell_type": "code",
      "execution_count": 2,
      "metadata": {
        "colab": {
          "base_uri": "https://localhost:8080/",
          "height": 356
        },
        "id": "4aHO4zhClHqX",
        "pycharm": {
          "is_executing": false,
          "name": "#%%\n"
        },
        "outputId": "d40c3aa5-332c-4a75-e597-f24bccd8a721"
      },
      "outputs": [
        {
          "output_type": "error",
          "ename": "ModuleNotFoundError",
          "evalue": "ignored",
          "traceback": [
            "\u001b[0;31m---------------------------------------------------------------------------\u001b[0m",
            "\u001b[0;31mModuleNotFoundError\u001b[0m                       Traceback (most recent call last)",
            "\u001b[0;32m<ipython-input-2-24a29b45ad94>\u001b[0m in \u001b[0;36m<cell line: 3>\u001b[0;34m()\u001b[0m\n\u001b[1;32m      1\u001b[0m \u001b[0;32mimport\u001b[0m \u001b[0mpathlib\u001b[0m\u001b[0;34m\u001b[0m\u001b[0;34m\u001b[0m\u001b[0m\n\u001b[1;32m      2\u001b[0m \u001b[0;34m\u001b[0m\u001b[0m\n\u001b[0;32m----> 3\u001b[0;31m \u001b[0;32mfrom\u001b[0m \u001b[0mopenff\u001b[0m\u001b[0;34m.\u001b[0m\u001b[0mevaluator\u001b[0m\u001b[0;34m.\u001b[0m\u001b[0mdatasets\u001b[0m \u001b[0;32mimport\u001b[0m \u001b[0mPhysicalPropertyDataSet\u001b[0m\u001b[0;34m\u001b[0m\u001b[0;34m\u001b[0m\u001b[0m\n\u001b[0m\u001b[1;32m      4\u001b[0m \u001b[0;34m\u001b[0m\u001b[0m\n\u001b[1;32m      5\u001b[0m \u001b[0mexperimental_data_set_path\u001b[0m \u001b[0;34m=\u001b[0m \u001b[0;34m\"filtered_data_set.json\"\u001b[0m\u001b[0;34m\u001b[0m\u001b[0;34m\u001b[0m\u001b[0m\n",
            "\u001b[0;31mModuleNotFoundError\u001b[0m: No module named 'openff'",
            "",
            "\u001b[0;31m---------------------------------------------------------------------------\u001b[0;32m\nNOTE: If your import is failing due to a missing package, you can\nmanually install dependencies using either !pip or !apt.\n\nTo view examples of installing some common dependencies, click the\n\"Open Examples\" button below.\n\u001b[0;31m---------------------------------------------------------------------------\u001b[0m\n"
          ],
          "errorDetails": {
            "actions": [
              {
                "action": "open_url",
                "actionText": "Open Examples",
                "url": "/notebooks/snippets/importing_libraries.ipynb"
              }
            ]
          }
        }
      ],
      "source": [
        "import pathlib\n",
        "\n",
        "from openff.evaluator.datasets import PhysicalPropertyDataSet\n",
        "\n",
        "experimental_data_set_path = \"filtered_data_set.json\"\n",
        "estimated_data_set_path = \"estimated_data_set.json\"\n",
        "\n",
        "# If you have not yet completed the previous tutorials or do not have the data set files\n",
        "# available, this tutorial will use copies provided by the framework\n",
        "\n",
        "if not (\n",
        "    pathlib.Path(experimental_data_set_path).exists()\n",
        "    and pathlib.Path(estimated_data_set_path).exists()\n",
        "):\n",
        "    from openff.evaluator.utils import get_data_filename\n",
        "\n",
        "    experimental_data_set_path = get_data_filename(\n",
        "        \"tutorials/tutorial01/filtered_data_set.json\"\n",
        "    )\n",
        "    estimated_data_set_path = get_data_filename(\n",
        "        \"tutorials/tutorial02/estimated_data_set.json\"\n",
        "    )\n",
        "\n",
        "experimental_data_set = PhysicalPropertyDataSet.from_json(experimental_data_set_path)\n",
        "estimated_data_set = PhysicalPropertyDataSet.from_json(estimated_data_set_path)"
      ]
    },
    {
      "cell_type": "markdown",
      "metadata": {
        "id": "5vl3MxX5lHqh",
        "pycharm": {
          "name": "#%% md\n"
        }
      },
      "source": [
        "if everything went well from the previous tutorials, these data sets will contain the density and $H_{vap}$ of ethanol\n",
        "and isopropanol:"
      ]
    },
    {
      "cell_type": "code",
      "execution_count": null,
      "metadata": {
        "id": "4vI-dJ3VlHqj",
        "pycharm": {
          "is_executing": false,
          "name": "#%%\n"
        }
      },
      "outputs": [],
      "source": [
        "experimental_data_set.to_pandas().head()"
      ]
    },
    {
      "cell_type": "code",
      "execution_count": null,
      "metadata": {
        "id": "PNJ1G1LXlHqq",
        "pycharm": {
          "is_executing": false,
          "name": "#%%\n"
        }
      },
      "outputs": [],
      "source": [
        "estimated_data_set.to_pandas().head()"
      ]
    },
    {
      "cell_type": "markdown",
      "metadata": {
        "id": "X9NjUh89lHqx"
      },
      "source": [
        "## Extracting the Results\n",
        "\n",
        "We will now compare how the value of each property estimated by simulation deviates from the experimental measurement.\n",
        "\n",
        "To do this we will extract a list which contains pairs of experimental and evaluated properties. We can easily match\n",
        "properties based on the unique ids which were automatically assigned to them on their creation:"
      ]
    },
    {
      "cell_type": "code",
      "execution_count": null,
      "metadata": {
        "id": "kc65RHp_lHqz",
        "pycharm": {
          "is_executing": false,
          "name": "#%%\n"
        }
      },
      "outputs": [],
      "source": [
        "properties_by_type = {\"Density\": [], \"EnthalpyOfVaporization\": []}\n",
        "\n",
        "for experimental_property in experimental_data_set:\n",
        "    # Find the estimated property which has the same id as the\n",
        "    # experimental property.\n",
        "    estimated_property = next(\n",
        "        x for x in estimated_data_set if x.id == experimental_property.id\n",
        "    )\n",
        "\n",
        "    # Add this pair of properties to the list of pairs\n",
        "    property_type = experimental_property.__class__.__name__\n",
        "    properties_by_type[property_type].append(\n",
        "        (experimental_property, estimated_property)\n",
        "    )"
      ]
    },
    {
      "cell_type": "markdown",
      "metadata": {
        "id": "I6lPQul9lHq5",
        "pycharm": {
          "name": "#%% md\n"
        }
      },
      "source": [
        "## Plotting the Results\n",
        "\n",
        "We will now compare the experimental results to the estimated ones by plotting them using `matplotlib`:"
      ]
    },
    {
      "cell_type": "code",
      "execution_count": null,
      "metadata": {
        "id": "m71PXnHPlHq6",
        "pycharm": {
          "is_executing": false,
          "name": "#%%\n"
        }
      },
      "outputs": [],
      "source": [
        "from matplotlib import pyplot\n",
        "\n",
        "# Create the figure we will plot to.\n",
        "figure, axes = pyplot.subplots(nrows=1, ncols=2, figsize=(8.0, 4.0))\n",
        "\n",
        "# Set the axis titles\n",
        "axes[0].set_xlabel(\"OpenFF 1.0.0\")\n",
        "axes[0].set_ylabel(\"Experimental\")\n",
        "axes[0].set_title(\"Density $kg m^{-3}$\")\n",
        "\n",
        "axes[1].set_xlabel(\"OpenFF 1.0.0\")\n",
        "axes[1].set_ylabel(\"Experimental\")\n",
        "axes[1].set_title(\"$H_{vap}$ $kJ mol^{-1}$\")\n",
        "\n",
        "# Define the preferred units of the properties\n",
        "from openff.units import unit\n",
        "\n",
        "preferred_units = {\n",
        "    \"Density\": unit.kilogram / unit.meter**3,\n",
        "    \"EnthalpyOfVaporization\": unit.kilojoule / unit.mole,\n",
        "}\n",
        "\n",
        "for index, property_type in enumerate(properties_by_type):\n",
        "    experimental_values = []\n",
        "    estimated_values = []\n",
        "\n",
        "    preferred_unit = preferred_units[property_type]\n",
        "\n",
        "    # Convert the values of our properties to the preferred units.\n",
        "    for experimental_property, estimated_property in properties_by_type[property_type]:\n",
        "        experimental_values.append(\n",
        "            experimental_property.value.to(preferred_unit).magnitude\n",
        "        )\n",
        "        estimated_values.append(estimated_property.value.to(preferred_unit).magnitude)\n",
        "\n",
        "    axes[index].plot(\n",
        "        estimated_values, experimental_values, marker=\"x\", linestyle=\"None\"\n",
        "    )"
      ]
    },
    {
      "cell_type": "markdown",
      "metadata": {
        "id": "tx8U-ExOlHrA",
        "pycharm": {
          "name": "#%% md\n"
        }
      },
      "source": [
        "## Conclusion\n",
        "\n",
        "And that concludes the third tutorial!\n",
        "\n",
        "If you have any questions and / or feedback, please open an issue on the\n",
        "[GitHub issue tracker](https://github.com/openforcefield/openff-evaluator/issues)."
      ]
    }
  ],
  "metadata": {
    "colab": {
      "name": "Copy of tutorial03.ipynb",
      "provenance": []
    },
    "kernelspec": {
      "display_name": "evaluator-test-env",
      "language": "python",
      "name": "python3"
    },
    "language_info": {
      "codemirror_mode": {
        "name": "ipython",
        "version": 3
      },
      "file_extension": ".py",
      "mimetype": "text/x-python",
      "name": "python",
      "nbconvert_exporter": "python",
      "pygments_lexer": "ipython3",
      "version": "3.10.9"
    },
    "vscode": {
      "interpreter": {
        "hash": "410f84a7dee2fd8da3e676bc69193e1fbd008e9a63ed8da16ae0332e91fd8194"
      }
    }
  },
  "nbformat": 4,
  "nbformat_minor": 0
}