{
 "cells": [
  {
   "cell_type": "markdown",
   "metadata": {
    "id": "fCQhSMBX3WOP"
   },
   "source": [
    "# Tutorial 01 - Loading Data Sets\n",
    "\n",
    "[![Open In Colab](https://colab.research.google.com/assets/colab-badge.svg)](https://colab.research.google.com/github/openforcefield/openff-evaluator/blob/main/docs/tutorials/tutorial01.ipynb)\n",
    "\n",
    "In this tutorial we will be exploring the frameworks utilities for loading and manipulating data sets of physical\n",
    "property measurements. The tutorial will cover\n",
    "\n",
    "- Loading a data set of density measurements from NISTs ThermoML Archive\n",
    "- Filtering the data set down using a range of criteria, including temperature pressure, and composition.\n",
    "- Supplementing the data set with enthalpy of vaporization ($\\Delta H_{v}$) data sourced directly from the literature\n",
    "\n",
    "If you haven't yet installed the OpenFF Evaluator framework on your machine, check out the [installation instructions\n",
    "here!](../install.rst)"
   ]
  },
  {
   "cell_type": "markdown",
   "metadata": {
    "id": "gMcVrp5e3WOS",
    "pycharm": {
     "name": "#%% md\n"
    }
   },
   "source": [
    "*Note: If you are running this tutorial in google colab you will need to run a setup script instead of following the\n",
    "installation instructions:*"
   ]
  },
  {
   "cell_type": "code",
   "execution_count": 42,
   "metadata": {
    "colab": {
     "base_uri": "https://localhost:8080/"
    },
    "id": "SrYqUKE93WOU",
    "outputId": "4006abf9-b032-47de-c066-6c37211c5cfd",
    "pycharm": {
     "name": "#%%\n"
    }
   },
   "outputs": [
    {
     "name": "stdout",
     "output_type": "stream",
     "text": [
      "--2023-07-11 08:43:25--  https://raw.githubusercontent.com/openforcefield/openff-evaluator/main/docs/tutorials/colab_setup.ipynb\n",
      "Resolving raw.githubusercontent.com (raw.githubusercontent.com)... 185.199.109.133, 185.199.111.133, 185.199.110.133, ...\n",
      "Connecting to raw.githubusercontent.com (raw.githubusercontent.com)|185.199.109.133|:443... connected.\n",
      "HTTP request sent, awaiting response... 200 OK\n",
      "Length: 1708 (1.7K) [text/plain]\n",
      "Saving to: ‘colab_setup.ipynb.3’\n",
      "\n",
      "colab_setup.ipynb.3 100%[===================>]   1.67K  --.-KB/s    in 0s      \n",
      "\n",
      "2023-07-11 08:43:26 (7.68 MB/s) - ‘colab_setup.ipynb.3’ saved [1708/1708]\n",
      "\n",
      "--2023-07-11 08:43:26--  https://repo.anaconda.com/miniconda/Miniconda3-latest-Linux-x86_64.sh\n",
      "Resolving repo.anaconda.com (repo.anaconda.com)... 104.16.131.3, 104.16.130.3\n",
      "Connecting to repo.anaconda.com (repo.anaconda.com)|104.16.131.3|:443... connected.\n",
      "HTTP request sent, awaiting response... 200 OK\n",
      "Length: 73134376 (70M) [application/x-sh]\n",
      "Saving to: ‘Miniconda3-latest-Linux-x86_64.sh.3’\n",
      "\n",
      "Miniconda3-latest-L 100%[===================>]  69.75M  10.6MB/s    in 6.7s    \n",
      "\n",
      "2023-07-11 08:43:33 (10.4 MB/s) - ‘Miniconda3-latest-Linux-x86_64.sh.3’ saved [73134376/73134376]\n",
      "\n",
      "PREFIX=/usr/local\n",
      "./Miniconda3-latest-Linux-x86_64.sh: line 328: md5sum: command not found\n",
      "--2023-07-11 08:43:34--  https://raw.githubusercontent.com/openforcefield/openff-evaluator/main/devtools/conda-envs/test_env.yaml\n",
      "Resolving raw.githubusercontent.com (raw.githubusercontent.com)... 185.199.109.133, 185.199.111.133, 185.199.110.133, ...\n",
      "Connecting to raw.githubusercontent.com (raw.githubusercontent.com)|185.199.109.133|:443... connected.\n",
      "HTTP request sent, awaiting response... 200 OK\n",
      "Length: 685 [text/plain]\n",
      "Saving to: ‘test_env.yaml.3’\n",
      "\n",
      "test_env.yaml.3     100%[===================>]     685  --.-KB/s    in 0s      \n",
      "\n",
      "2023-07-11 08:43:34 (3.40 MB/s) - ‘test_env.yaml.3’ saved [685/685]\n",
      "\n",
      "zsh:.:1: no such file or directory: /usr/local/etc/profile.d/conda.sh\n",
      "Collecting git+https://github.com/openforcefield/openff-evaluator.git@main\n",
      "  Cloning https://github.com/openforcefield/openff-evaluator.git (to revision main) to /private/var/folders/77/w1rk9kjn64xfsyxq1w2k2qbc0000gn/T/pip-req-build-8n2md95w\n",
      "  Running command git clone --filter=blob:none --quiet https://github.com/openforcefield/openff-evaluator.git /private/var/folders/77/w1rk9kjn64xfsyxq1w2k2qbc0000gn/T/pip-req-build-8n2md95w\n",
      "  Resolved https://github.com/openforcefield/openff-evaluator.git to commit 42832c0ce8508470399043ddaafaab3d573aa4f9\n",
      "  Preparing metadata (setup.py) ... \u001b[?25ldone\n",
      "\u001b[?25h--2023-07-11 08:43:49--  https://raw.githubusercontent.com/openforcefield/openff-forcefields/7300a486581feff508b9401241443f941924783f/openforcefields/offxml/openff-1.0.0.offxml\n",
      "Resolving raw.githubusercontent.com (raw.githubusercontent.com)... 185.199.109.133, 185.199.111.133, 185.199.110.133, ...\n",
      "Connecting to raw.githubusercontent.com (raw.githubusercontent.com)|185.199.109.133|:443... connected.\n",
      "HTTP request sent, awaiting response... 200 OK\n",
      "Length: 62154 (61K) [text/plain]\n",
      "Saving to: ‘openff-1.0.0.offxml.3’\n",
      "\n",
      "openff-1.0.0.offxml 100%[===================>]  60.70K  --.-KB/s    in 0.1s    \n",
      "\n",
      "2023-07-11 08:43:50 (621 KB/s) - ‘openff-1.0.0.offxml.3’ saved [62154/62154]\n",
      "\n"
     ]
    }
   ],
   "source": [
    "#!wget https://raw.githubusercontent.com/openforcefield/openff-evaluator/main/docs/tutorials/colab_setup.ipynb\n",
    "#%run colab_setup.ipynb"
   ]
  },
  {
   "cell_type": "markdown",
   "metadata": {
    "id": "JowZqBF23WOa",
    "pycharm": {
     "name": "#%% md\n"
    }
   },
   "source": [
    "For the sake of clarity all warnings will be disabled in this tutorial:"
   ]
  },
  {
   "cell_type": "code",
   "execution_count": 47,
   "metadata": {
    "id": "Fa44xTAy3WOc",
    "pycharm": {
     "name": "#%%\n"
    }
   },
   "outputs": [],
   "source": [
    "import warnings\n",
    "\n",
    "warnings.filterwarnings(\"ignore\")\n",
    "import logging\n",
    "\n",
    "logging.getLogger(\"openff.toolkit\").setLevel(logging.ERROR)"
   ]
  },
  {
   "cell_type": "markdown",
   "metadata": {
    "id": "QfZ0AwW-3WOj",
    "pycharm": {
     "name": "#%% md\n"
    }
   },
   "source": [
    "## Extracting Data from ThermoML\n",
    "\n",
    "For anyone who is not familiar with the ThermoML archive - it is a fantastic database of physical property measurements\n",
    "which have been extracted from data published in the\n",
    "\n",
    "- Journal of Chemical and Engineering Data\n",
    "- Journal of Chemical Thermodynamics\n",
    "- Fluid Phase Equilibria\n",
    "- Thermochimica Acta\n",
    "- International Journal of Thermophysics\n",
    "\n",
    "journals. It includes data for a wealth of different physical properties, from simple densities and melting points, to\n",
    "activity coefficients and osmotic coefficients, all of which is freely available. As such, it serves as a fantastic\n",
    "resource for benchmarking and optimising molecular force fields against.\n",
    "\n",
    "The Evaluator framework has built-in support for extracting this wealth of data, storing the data in easy to manipulate\n",
    "python objects, and for automatically re-computing those properties using an array of calculation techniques, such as\n",
    "molecular simulations and, in future, from trained surrogate models.\n",
    "\n",
    "This support is provided by the `ThermoMLDataSet` object:"
   ]
  },
  {
   "cell_type": "code",
   "execution_count": 48,
   "metadata": {
    "colab": {
     "base_uri": "https://localhost:8080/",
     "height": 290
    },
    "id": "GrU7WuUE3WOm",
    "outputId": "5a8b4904-c55e-414b-8f58-c0cae99ec768",
    "pycharm": {
     "name": "#%%\n"
    }
   },
   "outputs": [],
   "source": [
    "from openff.evaluator.datasets.thermoml import ThermoMLDataSet"
   ]
  },
  {
   "cell_type": "markdown",
   "metadata": {
    "id": "XWBXcXF03WOw",
    "pycharm": {
     "name": "#%% md\n"
    }
   },
   "source": [
    "The `ThermoMLDataSet` object offers two main routes for extracting data the the archive:\n",
    "\n",
    "- extracting data directly from the NIST ThermoML web server\n",
    "- extracting data from a local ThermoML XML archive file\n",
    "\n",
    "Here we will be extracting data directly from the web server. To pull data from the web server we need to specifiy the\n",
    "digital object identifiers (DOIs) of the data we wish to extract - these correspond to the DOI of the publication that\n",
    "the data was initially sourced from.\n",
    "\n",
    "For this tutorial we will be extracting data using the following DOIs:   "
   ]
  },
  {
   "cell_type": "code",
   "execution_count": 53,
   "metadata": {
    "colab": {
     "base_uri": "https://localhost:8080/",
     "height": 208
    },
    "id": "530MHJsR3WOy",
    "outputId": "26953d9f-93cf-4585-839a-37b3e4352f1c",
    "pycharm": {
     "name": "#%%\n"
    }
   },
   "outputs": [],
   "source": [
    "data_set = ThermoMLDataSet.from_doi(\n",
    "    \"10.1016/j.fluid.2013.10.034\",\n",
    "    \"10.1021/je1013476\",\n",
    ")"
   ]
  },
  {
   "cell_type": "code",
   "execution_count": 58,
   "metadata": {},
   "outputs": [
    {
     "name": "stdout",
     "output_type": "stream",
     "text": [
      "None\n"
     ]
    }
   ],
   "source": [
    "print(data_set)"
   ]
  },
  {
   "cell_type": "markdown",
   "metadata": {
    "id": "DKTRAAy_3WO8",
    "pycharm": {
     "name": "#%% md\n"
    }
   },
   "source": [
    "*We* can inspect the data set to see how many properties were loaded:"
   ]
  },
  {
   "cell_type": "code",
   "execution_count": 54,
   "metadata": {
    "id": "Q6OUsdH43WO_",
    "pycharm": {
     "name": "#%% \n"
    },
    "scrolled": true
   },
   "outputs": [
    {
     "ename": "TypeError",
     "evalue": "object of type 'NoneType' has no len()",
     "output_type": "error",
     "traceback": [
      "\u001b[0;31m---------------------------------------------------------------------------\u001b[0m",
      "\u001b[0;31mTypeError\u001b[0m                                 Traceback (most recent call last)",
      "Cell \u001b[0;32mIn[54], line 1\u001b[0m\n\u001b[0;32m----> 1\u001b[0m \u001b[38;5;28;43mlen\u001b[39;49m\u001b[43m(\u001b[49m\u001b[43mdata_set\u001b[49m\u001b[43m)\u001b[49m\n",
      "\u001b[0;31mTypeError\u001b[0m: object of type 'NoneType' has no len()"
     ]
    }
   ],
   "source": [
    "len(data_set)"
   ]
  },
  {
   "cell_type": "markdown",
   "metadata": {
    "id": "szMNT-tV3WPG",
    "pycharm": {
     "name": "#%% md\n"
    }
   },
   "source": [
    "and for how many different substances those properties were measured for:"
   ]
  },
  {
   "cell_type": "code",
   "execution_count": 30,
   "metadata": {
    "id": "uSGF7E9-3WPH",
    "pycharm": {
     "name": "#%%\n"
    }
   },
   "outputs": [
    {
     "ename": "AttributeError",
     "evalue": "'NoneType' object has no attribute 'substances'",
     "output_type": "error",
     "traceback": [
      "\u001b[0;31m---------------------------------------------------------------------------\u001b[0m",
      "\u001b[0;31mAttributeError\u001b[0m                            Traceback (most recent call last)",
      "Cell \u001b[0;32mIn[30], line 1\u001b[0m\n\u001b[0;32m----> 1\u001b[0m \u001b[38;5;28mlen\u001b[39m(\u001b[43mdata_set\u001b[49m\u001b[38;5;241;43m.\u001b[39;49m\u001b[43msubstances\u001b[49m)\n",
      "\u001b[0;31mAttributeError\u001b[0m: 'NoneType' object has no attribute 'substances'"
     ]
    }
   ],
   "source": [
    "len(data_set.substances)"
   ]
  },
  {
   "cell_type": "markdown",
   "metadata": {
    "id": "LZT4CQ0q3WPM",
    "pycharm": {
     "name": "#%% md\n"
    }
   },
   "source": [
    "We can also easily check which types of properties were loaded in:"
   ]
  },
  {
   "cell_type": "code",
   "execution_count": 59,
   "metadata": {
    "colab": {
     "base_uri": "https://localhost:8080/",
     "height": 158
    },
    "id": "LTHDuTUh3WPO",
    "outputId": "cfe42fc3-f2f0-46a4-fdb5-64d77e0db55a",
    "pycharm": {
     "name": "#%% \n"
    }
   },
   "outputs": [
    {
     "ename": "AttributeError",
     "evalue": "'NoneType' object has no attribute 'property_types'",
     "output_type": "error",
     "traceback": [
      "\u001b[0;31m---------------------------------------------------------------------------\u001b[0m",
      "\u001b[0;31mAttributeError\u001b[0m                            Traceback (most recent call last)",
      "Cell \u001b[0;32mIn[59], line 1\u001b[0m\n\u001b[0;32m----> 1\u001b[0m \u001b[38;5;28mprint\u001b[39m(\u001b[43mdata_set\u001b[49m\u001b[38;5;241;43m.\u001b[39;49m\u001b[43mproperty_types\u001b[49m)\n",
      "\u001b[0;31mAttributeError\u001b[0m: 'NoneType' object has no attribute 'property_types'"
     ]
    }
   ],
   "source": [
    "print(data_set.property_types)"
   ]
  },
  {
   "cell_type": "markdown",
   "metadata": {
    "id": "4YpYiQYr3WPT",
    "pycharm": {
     "name": "#%% md\n"
    }
   },
   "source": [
    "## Filtering the Data Set\n",
    "\n",
    "The data set object we just created contains many different functions which will allow us to filter the data down,\n",
    "retaining only those measurements which are of interest to us.\n",
    "\n",
    "The first thing we will do is filter out all of the measurements which aren't density measurements:"
   ]
  },
  {
   "cell_type": "code",
   "execution_count": 32,
   "metadata": {
    "id": "QXphqqP53WPV",
    "pycharm": {
     "name": "#%%\n"
    }
   },
   "outputs": [
    {
     "ename": "TypeError",
     "evalue": "'NoneType' object is not iterable",
     "output_type": "error",
     "traceback": [
      "\u001b[0;31m---------------------------------------------------------------------------\u001b[0m",
      "\u001b[0;31mTypeError\u001b[0m                                 Traceback (most recent call last)",
      "Cell \u001b[0;32mIn[32], line 6\u001b[0m\n\u001b[1;32m      1\u001b[0m \u001b[38;5;28;01mfrom\u001b[39;00m \u001b[38;5;21;01mopenff\u001b[39;00m\u001b[38;5;21;01m.\u001b[39;00m\u001b[38;5;21;01mevaluator\u001b[39;00m\u001b[38;5;21;01m.\u001b[39;00m\u001b[38;5;21;01mdatasets\u001b[39;00m\u001b[38;5;21;01m.\u001b[39;00m\u001b[38;5;21;01mcuration\u001b[39;00m\u001b[38;5;21;01m.\u001b[39;00m\u001b[38;5;21;01mcomponents\u001b[39;00m\u001b[38;5;21;01m.\u001b[39;00m\u001b[38;5;21;01mfiltering\u001b[39;00m \u001b[38;5;28;01mimport\u001b[39;00m (\n\u001b[1;32m      2\u001b[0m     FilterByPropertyTypes,\n\u001b[1;32m      3\u001b[0m     FilterByPropertyTypesSchema,\n\u001b[1;32m      4\u001b[0m )\n\u001b[0;32m----> 6\u001b[0m data_set \u001b[38;5;241m=\u001b[39m \u001b[43mFilterByPropertyTypes\u001b[49m\u001b[38;5;241;43m.\u001b[39;49m\u001b[43mapply\u001b[49m\u001b[43m(\u001b[49m\n\u001b[1;32m      7\u001b[0m \u001b[43m    \u001b[49m\u001b[43mdata_set\u001b[49m\u001b[43m,\u001b[49m\u001b[43m \u001b[49m\u001b[43mFilterByPropertyTypesSchema\u001b[49m\u001b[43m(\u001b[49m\u001b[43mproperty_types\u001b[49m\u001b[38;5;241;43m=\u001b[39;49m\u001b[43m[\u001b[49m\u001b[38;5;124;43m\"\u001b[39;49m\u001b[38;5;124;43mDensity\u001b[39;49m\u001b[38;5;124;43m\"\u001b[39;49m\u001b[43m]\u001b[49m\u001b[43m)\u001b[49m\n\u001b[1;32m      8\u001b[0m \u001b[43m)\u001b[49m\n\u001b[1;32m     10\u001b[0m \u001b[38;5;28mprint\u001b[39m(data_set\u001b[38;5;241m.\u001b[39mproperty_types)\n",
      "File \u001b[0;32m~/anaconda3/envs/openff/lib/python3.11/site-packages/openff/evaluator/datasets/curation/components/components.py:87\u001b[0m, in \u001b[0;36mCurationComponent.apply\u001b[0;34m(cls, data_set, schema, n_processes)\u001b[0m\n\u001b[1;32m     84\u001b[0m \u001b[38;5;28;01mif\u001b[39;00m \u001b[38;5;28misinstance\u001b[39m(data_frame, PhysicalPropertyDataSet):\n\u001b[1;32m     85\u001b[0m     data_frame \u001b[38;5;241m=\u001b[39m data_frame\u001b[38;5;241m.\u001b[39mto_pandas()\n\u001b[0;32m---> 87\u001b[0m modified_data_frame \u001b[38;5;241m=\u001b[39m \u001b[38;5;28;43mcls\u001b[39;49m\u001b[38;5;241;43m.\u001b[39;49m\u001b[43m_apply\u001b[49m\u001b[43m(\u001b[49m\u001b[43mdata_frame\u001b[49m\u001b[43m,\u001b[49m\u001b[43m \u001b[49m\u001b[43mschema\u001b[49m\u001b[43m,\u001b[49m\u001b[43m \u001b[49m\u001b[43mn_processes\u001b[49m\u001b[43m)\u001b[49m\n\u001b[1;32m     89\u001b[0m n_data_points \u001b[38;5;241m=\u001b[39m \u001b[38;5;28mlen\u001b[39m(data_frame)\n\u001b[1;32m     90\u001b[0m n_filtered \u001b[38;5;241m=\u001b[39m \u001b[38;5;28mlen\u001b[39m(modified_data_frame)\n",
      "File \u001b[0;32m~/anaconda3/envs/openff/lib/python3.11/site-packages/openff/evaluator/datasets/curation/components/filtering.py:463\u001b[0m, in \u001b[0;36mFilterByPropertyTypes._apply\u001b[0;34m(cls, data_frame, schema, n_processes)\u001b[0m\n\u001b[1;32m    456\u001b[0m \u001b[38;5;129m@classmethod\u001b[39m\n\u001b[1;32m    457\u001b[0m \u001b[38;5;28;01mdef\u001b[39;00m \u001b[38;5;21m_apply\u001b[39m(\n\u001b[1;32m    458\u001b[0m     \u001b[38;5;28mcls\u001b[39m,\n\u001b[0;32m   (...)\u001b[0m\n\u001b[1;32m    461\u001b[0m     n_processes,\n\u001b[1;32m    462\u001b[0m ) \u001b[38;5;241m-\u001b[39m\u001b[38;5;241m>\u001b[39m pandas\u001b[38;5;241m.\u001b[39mDataFrame:\n\u001b[0;32m--> 463\u001b[0m     property_headers \u001b[38;5;241m=\u001b[39m [\n\u001b[1;32m    464\u001b[0m         header \u001b[38;5;28;01mfor\u001b[39;00m header \u001b[38;5;129;01min\u001b[39;00m data_frame \u001b[38;5;28;01mif\u001b[39;00m header\u001b[38;5;241m.\u001b[39mfind(\u001b[38;5;124m\"\u001b[39m\u001b[38;5;124m Value \u001b[39m\u001b[38;5;124m\"\u001b[39m) \u001b[38;5;241m>\u001b[39m\u001b[38;5;241m=\u001b[39m \u001b[38;5;241m0\u001b[39m\n\u001b[1;32m    465\u001b[0m     ]\n\u001b[1;32m    467\u001b[0m     \u001b[38;5;66;03m# Removes the columns for properties which are not of interest.\u001b[39;00m\n\u001b[1;32m    468\u001b[0m     \u001b[38;5;28;01mfor\u001b[39;00m header \u001b[38;5;129;01min\u001b[39;00m property_headers:\n",
      "\u001b[0;31mTypeError\u001b[0m: 'NoneType' object is not iterable"
     ]
    }
   ],
   "source": [
    "from openff.evaluator.datasets.curation.components.filtering import (\n",
    "    FilterByPropertyTypes,\n",
    "    FilterByPropertyTypesSchema,\n",
    ")\n",
    "\n",
    "data_set = FilterByPropertyTypes.apply(\n",
    "    data_set, FilterByPropertyTypesSchema(property_types=[\"Density\"])\n",
    ")\n",
    "\n",
    "print(data_set.property_types)"
   ]
  },
  {
   "cell_type": "markdown",
   "metadata": {
    "id": "R7P4Q5pd3WPZ",
    "pycharm": {
     "name": "#%% md\n"
    }
   },
   "source": [
    "Next we will filter out all measurements which were made away from atmospheric conditions:"
   ]
  },
  {
   "cell_type": "code",
   "execution_count": 34,
   "metadata": {
    "id": "D9iOJ28l3WPb",
    "pycharm": {
     "name": "#%% \n"
    }
   },
   "outputs": [
    {
     "ename": "TypeError",
     "evalue": "object of type 'NoneType' has no len()",
     "output_type": "error",
     "traceback": [
      "\u001b[0;31m---------------------------------------------------------------------------\u001b[0m",
      "\u001b[0;31mTypeError\u001b[0m                                 Traceback (most recent call last)",
      "Cell \u001b[0;32mIn[34], line 8\u001b[0m\n\u001b[1;32m      1\u001b[0m \u001b[38;5;28;01mfrom\u001b[39;00m \u001b[38;5;21;01mopenff\u001b[39;00m\u001b[38;5;21;01m.\u001b[39;00m\u001b[38;5;21;01mevaluator\u001b[39;00m\u001b[38;5;21;01m.\u001b[39;00m\u001b[38;5;21;01mdatasets\u001b[39;00m\u001b[38;5;21;01m.\u001b[39;00m\u001b[38;5;21;01mcuration\u001b[39;00m\u001b[38;5;21;01m.\u001b[39;00m\u001b[38;5;21;01mcomponents\u001b[39;00m\u001b[38;5;21;01m.\u001b[39;00m\u001b[38;5;21;01mfiltering\u001b[39;00m \u001b[38;5;28;01mimport\u001b[39;00m (\n\u001b[1;32m      2\u001b[0m     FilterByPressure,\n\u001b[1;32m      3\u001b[0m     FilterByPressureSchema,\n\u001b[1;32m      4\u001b[0m     FilterByTemperature,\n\u001b[1;32m      5\u001b[0m     FilterByTemperatureSchema,\n\u001b[1;32m      6\u001b[0m )\n\u001b[0;32m----> 8\u001b[0m \u001b[38;5;28mprint\u001b[39m(\u001b[38;5;124mf\u001b[39m\u001b[38;5;124m\"\u001b[39m\u001b[38;5;124mThere were \u001b[39m\u001b[38;5;132;01m{\u001b[39;00m\u001b[38;5;28;43mlen\u001b[39;49m\u001b[43m(\u001b[49m\u001b[43mdata_set\u001b[49m\u001b[43m)\u001b[49m\u001b[38;5;132;01m}\u001b[39;00m\u001b[38;5;124m properties before filtering\u001b[39m\u001b[38;5;124m\"\u001b[39m)\n\u001b[1;32m     10\u001b[0m \u001b[38;5;66;03m# First filter by temperature.\u001b[39;00m\n\u001b[1;32m     11\u001b[0m data_set \u001b[38;5;241m=\u001b[39m FilterByTemperature\u001b[38;5;241m.\u001b[39mapply(\n\u001b[1;32m     12\u001b[0m     data_set,\n\u001b[1;32m     13\u001b[0m     FilterByTemperatureSchema(minimum_temperature\u001b[38;5;241m=\u001b[39m\u001b[38;5;241m298.0\u001b[39m, maximum_temperature\u001b[38;5;241m=\u001b[39m\u001b[38;5;241m298.2\u001b[39m),\n\u001b[1;32m     14\u001b[0m )\n",
      "\u001b[0;31mTypeError\u001b[0m: object of type 'NoneType' has no len()"
     ]
    }
   ],
   "source": [
    "from openff.evaluator.datasets.curation.components.filtering import (\n",
    "    FilterByPressure,\n",
    "    FilterByPressureSchema,\n",
    "    FilterByTemperature,\n",
    "    FilterByTemperatureSchema,\n",
    ")\n",
    "\n",
    "print(f\"There were {len(data_set)} properties before filtering\")\n",
    "\n",
    "# First filter by temperature.\n",
    "data_set = FilterByTemperature.apply(\n",
    "    data_set,\n",
    "    FilterByTemperatureSchema(minimum_temperature=298.0, maximum_temperature=298.2),\n",
    ")\n",
    "# and then by pressure\n",
    "data_set = FilterByPressure.apply(\n",
    "    data_set, FilterByPressureSchema(minimum_pressure=101.224, maximum_pressure=101.426)\n",
    ")\n",
    "\n",
    "print(f\"There are now {len(data_set)} properties after filtering\")"
   ]
  },
  {
   "cell_type": "markdown",
   "metadata": {
    "id": "wcW0jWKb3WPf",
    "pycharm": {
     "name": "#%% md\n"
    }
   },
   "source": [
    "Finally, we will filter out all measurements which were not measured for either ethanol (CCO) or isopropanol (CC(C)O):"
   ]
  },
  {
   "cell_type": "code",
   "execution_count": 33,
   "metadata": {
    "id": "GngQ8DJ93WPh",
    "pycharm": {
     "name": "#%%\n"
    }
   },
   "outputs": [
    {
     "ename": "AttributeError",
     "evalue": "'NoneType' object has no attribute 'apply'",
     "output_type": "error",
     "traceback": [
      "\u001b[0;31m---------------------------------------------------------------------------\u001b[0m",
      "\u001b[0;31mAttributeError\u001b[0m                            Traceback (most recent call last)",
      "Cell \u001b[0;32mIn[33], line 6\u001b[0m\n\u001b[1;32m      1\u001b[0m \u001b[38;5;28;01mfrom\u001b[39;00m \u001b[38;5;21;01mopenff\u001b[39;00m\u001b[38;5;21;01m.\u001b[39;00m\u001b[38;5;21;01mevaluator\u001b[39;00m\u001b[38;5;21;01m.\u001b[39;00m\u001b[38;5;21;01mdatasets\u001b[39;00m\u001b[38;5;21;01m.\u001b[39;00m\u001b[38;5;21;01mcuration\u001b[39;00m\u001b[38;5;21;01m.\u001b[39;00m\u001b[38;5;21;01mcomponents\u001b[39;00m\u001b[38;5;21;01m.\u001b[39;00m\u001b[38;5;21;01mfiltering\u001b[39;00m \u001b[38;5;28;01mimport\u001b[39;00m (\n\u001b[1;32m      2\u001b[0m     FilterBySmiles,\n\u001b[1;32m      3\u001b[0m     FilterBySmilesSchema,\n\u001b[1;32m      4\u001b[0m )\n\u001b[0;32m----> 6\u001b[0m data_set \u001b[38;5;241m=\u001b[39m \u001b[43mFilterBySmiles\u001b[49m\u001b[38;5;241;43m.\u001b[39;49m\u001b[43mapply\u001b[49m\u001b[43m(\u001b[49m\n\u001b[1;32m      7\u001b[0m \u001b[43m    \u001b[49m\u001b[43mdata_set\u001b[49m\u001b[43m,\u001b[49m\u001b[43m \u001b[49m\u001b[43mFilterBySmilesSchema\u001b[49m\u001b[43m(\u001b[49m\u001b[43msmiles_to_include\u001b[49m\u001b[38;5;241;43m=\u001b[39;49m\u001b[43m[\u001b[49m\u001b[38;5;124;43m\"\u001b[39;49m\u001b[38;5;124;43mCCO\u001b[39;49m\u001b[38;5;124;43m\"\u001b[39;49m\u001b[43m,\u001b[49m\u001b[43m \u001b[49m\u001b[38;5;124;43m\"\u001b[39;49m\u001b[38;5;124;43mCC(C)O\u001b[39;49m\u001b[38;5;124;43m\"\u001b[39;49m\u001b[43m]\u001b[49m\u001b[43m)\u001b[49m\n\u001b[1;32m      8\u001b[0m \u001b[43m)\u001b[49m\n\u001b[1;32m     10\u001b[0m \u001b[38;5;28mprint\u001b[39m(\u001b[38;5;124mf\u001b[39m\u001b[38;5;124m\"\u001b[39m\u001b[38;5;124mThere are now \u001b[39m\u001b[38;5;132;01m{\u001b[39;00m\u001b[38;5;28mlen\u001b[39m(data_set)\u001b[38;5;132;01m}\u001b[39;00m\u001b[38;5;124m properties after filtering\u001b[39m\u001b[38;5;124m\"\u001b[39m)\n",
      "File \u001b[0;32m~/anaconda3/envs/openff/lib/python3.11/site-packages/openff/evaluator/datasets/curation/components/components.py:87\u001b[0m, in \u001b[0;36mCurationComponent.apply\u001b[0;34m(cls, data_set, schema, n_processes)\u001b[0m\n\u001b[1;32m     84\u001b[0m \u001b[38;5;28;01mif\u001b[39;00m \u001b[38;5;28misinstance\u001b[39m(data_frame, PhysicalPropertyDataSet):\n\u001b[1;32m     85\u001b[0m     data_frame \u001b[38;5;241m=\u001b[39m data_frame\u001b[38;5;241m.\u001b[39mto_pandas()\n\u001b[0;32m---> 87\u001b[0m modified_data_frame \u001b[38;5;241m=\u001b[39m \u001b[38;5;28;43mcls\u001b[39;49m\u001b[38;5;241;43m.\u001b[39;49m\u001b[43m_apply\u001b[49m\u001b[43m(\u001b[49m\u001b[43mdata_frame\u001b[49m\u001b[43m,\u001b[49m\u001b[43m \u001b[49m\u001b[43mschema\u001b[49m\u001b[43m,\u001b[49m\u001b[43m \u001b[49m\u001b[43mn_processes\u001b[49m\u001b[43m)\u001b[49m\n\u001b[1;32m     89\u001b[0m n_data_points \u001b[38;5;241m=\u001b[39m \u001b[38;5;28mlen\u001b[39m(data_frame)\n\u001b[1;32m     90\u001b[0m n_filtered \u001b[38;5;241m=\u001b[39m \u001b[38;5;28mlen\u001b[39m(modified_data_frame)\n",
      "File \u001b[0;32m~/anaconda3/envs/openff/lib/python3.11/site-packages/openff/evaluator/datasets/curation/components/filtering.py:773\u001b[0m, in \u001b[0;36mFilterBySmiles._apply\u001b[0;34m(cls, data_frame, schema, n_processes)\u001b[0m\n\u001b[1;32m    770\u001b[0m     \u001b[38;5;28;01mreturn\u001b[39;00m \u001b[38;5;28;01mTrue\u001b[39;00m\n\u001b[1;32m    772\u001b[0m \u001b[38;5;66;03m# noinspection PyTypeChecker\u001b[39;00m\n\u001b[0;32m--> 773\u001b[0m \u001b[38;5;28;01mreturn\u001b[39;00m data_frame[\u001b[43mdata_frame\u001b[49m\u001b[38;5;241;43m.\u001b[39;49m\u001b[43mapply\u001b[49m(filter_function, axis\u001b[38;5;241m=\u001b[39m\u001b[38;5;241m1\u001b[39m)]\n",
      "\u001b[0;31mAttributeError\u001b[0m: 'NoneType' object has no attribute 'apply'"
     ]
    }
   ],
   "source": [
    "from openff.evaluator.datasets.curation.components.filtering import (\n",
    "    FilterBySmiles,\n",
    "    FilterBySmilesSchema,\n",
    ")\n",
    "\n",
    "data_set = FilterBySmiles.apply(\n",
    "    data_set, FilterBySmilesSchema(smiles_to_include=[\"CCO\", \"CC(C)O\"])\n",
    ")\n",
    "\n",
    "print(f\"There are now {len(data_set)} properties after filtering\")"
   ]
  },
  {
   "cell_type": "markdown",
   "metadata": {
    "id": "9Jw4dJZz3WPn",
    "pycharm": {
     "name": "#%% md\n"
    }
   },
   "source": [
    "We will convert the filtered data to a pandas `DataFrame` to more easily visualize the final data set:"
   ]
  },
  {
   "cell_type": "code",
   "execution_count": null,
   "metadata": {
    "id": "6zcKs8vw3WPo",
    "pycharm": {
     "name": "#%%\n"
    }
   },
   "outputs": [],
   "source": [
    "pandas_data_set = data_set.to_pandas()\n",
    "pandas_data_set[\n",
    "    [\n",
    "        \"Temperature (K)\",\n",
    "        \"Pressure (kPa)\",\n",
    "        \"Component 1\",\n",
    "        \"Density Value (g / ml)\",\n",
    "        \"Source\",\n",
    "    ]\n",
    "].head()"
   ]
  },
  {
   "cell_type": "markdown",
   "metadata": {
    "id": "qLt21Daw3WPv",
    "pycharm": {
     "name": "#%% md\n"
    }
   },
   "source": [
    "Through filtering, we have now cut down from over 250 property measurements down to just 2. There are many more\n",
    "possible filters which can be applied. All of these and more information about the data set object can be found in the\n",
    "`PhysicalPropertyDataSet` (from which the `ThermoMLDataSet` class inherits) API documentation.\n",
    "\n",
    "## Adding Extra Data\n",
    "\n",
    "For the final part of this tutorial, we will be supplementing our newly filtered data set with some enthalpy of\n",
    "vaporization ($\\Delta H_{v}$) measurements sourced directly from the literature (as opposed to from the ThermoML\n",
    "archive).\n",
    "\n",
    "We will be sourcing values of the $\\Delta H_{v}$ of ethanol and isopropanol, summarised in the table below, from the\n",
    "[Enthalpies of vaporization of some aliphatic alcohols](https://www.sciencedirect.com/science/article/pii/S0021961471801088)\n",
    "publication:\n",
    "\n",
    "| Compound    | Temperature / $K$ | $\\Delta H_{v}$ / $kJ mol^{-1}$ | $\\delta \\Delta H_{v}$ / $kJ mol^{-1}$ |\n",
    "|-------------|-------------------|--------------------------------|---------------------------------------|\n",
    "| Ethanol     | 298.15            | 42.26                          | 0.02                                  |\n",
    "| Isopropanol | 298.15            | 45.34                          | 0.02                                  |\n",
    "\n",
    "In order to create a new $\\Delta H_{v}$ measurements, we will first define the state (namely temperature and pressure)\n",
    "that the measurements were recorded at:"
   ]
  },
  {
   "cell_type": "code",
   "execution_count": 60,
   "metadata": {
    "id": "s-ZPLIP73WPw",
    "pycharm": {
     "name": "#%%\n"
    }
   },
   "outputs": [],
   "source": [
    "from openff.units import unit\n",
    "\n",
    "from openff.evaluator.thermodynamics import ThermodynamicState\n",
    "\n",
    "thermodynamic_state = ThermodynamicState(\n",
    "    temperature=298.15 * unit.kelvin, pressure=1.0 * unit.atmosphere\n",
    ")"
   ]
  },
  {
   "cell_type": "markdown",
   "metadata": {
    "id": "QIQ5Kyit3WP2",
    "pycharm": {
     "name": "#%% md\n"
    }
   },
   "source": [
    "*Note: Here we have made use of the `openff.units.unit` module to attach units to the temperatures and pressures\n",
    "we are filtering by. This module simply exposes a `UnitRegistry` from the fantastic [pint](https://pint.readthedocs.io/en/stable/)\n",
    "library. Pint provides full support for attaching to units to values and is used extensively throughout this\n",
    "framework.*\n",
    "\n",
    "the substances that the measurements were recorded for:"
   ]
  },
  {
   "cell_type": "code",
   "execution_count": 62,
   "metadata": {
    "id": "SUDl9mlN3WP3",
    "pycharm": {
     "name": "#%%\n"
    }
   },
   "outputs": [],
   "source": [
    "from openff.evaluator.substances import Substance\n",
    "\n",
    "ethanol = Substance.from_components(\"CCO\")\n",
    "isopropanol = Substance.from_components(\"CC(C)O\")\n",
    "#TBP = Molecule.from_smiles(\"O=P(OCCCC)(OCCCC)OCCCC\")"
   ]
  },
  {
   "cell_type": "markdown",
   "metadata": {
    "id": "CVAiPSET3WP8",
    "pycharm": {
     "name": "#%% md\n"
    }
   },
   "source": [
    "and the source of this measurement (defined as the DOI of the publication):"
   ]
  },
  {
   "cell_type": "code",
   "execution_count": 63,
   "metadata": {
    "id": "L9k9s2d03WP9",
    "pycharm": {
     "name": "#%%\n"
    }
   },
   "outputs": [],
   "source": [
    "from openff.evaluator.datasets import MeasurementSource\n",
    "\n",
    "source = MeasurementSource(doi=\"10.1016/S0021-9614(71)80108-8\")"
   ]
  },
  {
   "cell_type": "markdown",
   "metadata": {
    "id": "SRFL2U9m3WQB",
    "pycharm": {
     "name": "#%% md\n"
    }
   },
   "source": [
    "We will combine this information with the values of the measurements to create an object which encodes each of the\n",
    "$\\Delta H_{v}$ measurements  "
   ]
  },
  {
   "cell_type": "code",
   "execution_count": 72,
   "metadata": {
    "id": "S84948QW3WQD",
    "pycharm": {
     "name": "#%%\n"
    }
   },
   "outputs": [
    {
     "ename": "AttributeError",
     "evalue": "module 'pint.compat' has no attribute 'upcast_types'",
     "output_type": "error",
     "traceback": [
      "\u001b[0;31m---------------------------------------------------------------------------\u001b[0m",
      "\u001b[0;31mAttributeError\u001b[0m                            Traceback (most recent call last)",
      "Cell \u001b[0;32mIn[72], line 3\u001b[0m\n\u001b[1;32m      1\u001b[0m \u001b[38;5;28;01mfrom\u001b[39;00m \u001b[38;5;21;01mopenff\u001b[39;00m\u001b[38;5;21;01m.\u001b[39;00m\u001b[38;5;21;01mevaluator\u001b[39;00m\u001b[38;5;21;01m.\u001b[39;00m\u001b[38;5;21;01mdatasets\u001b[39;00m \u001b[38;5;28;01mimport\u001b[39;00m PropertyPhase\n\u001b[1;32m      2\u001b[0m \u001b[38;5;66;03m#from openff.evaluator.properties import EnthalpyOfVaporization\u001b[39;00m\n\u001b[0;32m----> 3\u001b[0m \u001b[38;5;28;01mfrom\u001b[39;00m \u001b[38;5;21;01mopenff\u001b[39;00m\u001b[38;5;21;01m.\u001b[39;00m\u001b[38;5;21;01mevaluator\u001b[39;00m\u001b[38;5;21;01m.\u001b[39;00m\u001b[38;5;21;01mproperties\u001b[39;00m \u001b[38;5;28;01mimport\u001b[39;00m Density\n",
      "File \u001b[0;32m~/anaconda3/envs/openff/lib/python3.11/site-packages/openff/evaluator/__init__.py:12\u001b[0m\n\u001b[1;32m      9\u001b[0m \u001b[38;5;28;01mfrom\u001b[39;00m \u001b[38;5;21;01m.\u001b[39;00m\u001b[38;5;21;01mplugins\u001b[39;00m \u001b[38;5;28;01mimport\u001b[39;00m register_default_plugins, register_external_plugins\n\u001b[1;32m     11\u001b[0m \u001b[38;5;66;03m# Load the default plugins\u001b[39;00m\n\u001b[0;32m---> 12\u001b[0m \u001b[43mregister_default_plugins\u001b[49m\u001b[43m(\u001b[49m\u001b[43m)\u001b[49m\n\u001b[1;32m     13\u001b[0m \u001b[38;5;66;03m# Load in any found external plugins.\u001b[39;00m\n\u001b[1;32m     14\u001b[0m register_external_plugins()\n",
      "File \u001b[0;32m~/anaconda3/envs/openff/lib/python3.11/site-packages/openff/evaluator/plugins.py:21\u001b[0m, in \u001b[0;36mregister_default_plugins\u001b[0;34m()\u001b[0m\n\u001b[1;32m     16\u001b[0m \u001b[38;5;250m\u001b[39m\u001b[38;5;124;03m\"\"\"Registers the built-in workflow protocols, calculation layers and\u001b[39;00m\n\u001b[1;32m     17\u001b[0m \u001b[38;5;124;03mphysical properties with the plugin system.\u001b[39;00m\n\u001b[1;32m     18\u001b[0m \u001b[38;5;124;03m\"\"\"\u001b[39;00m\n\u001b[1;32m     20\u001b[0m \u001b[38;5;66;03m# Import the default properties.\u001b[39;00m\n\u001b[0;32m---> 21\u001b[0m \u001b[43mimportlib\u001b[49m\u001b[38;5;241;43m.\u001b[39;49m\u001b[43mimport_module\u001b[49m\u001b[43m(\u001b[49m\u001b[38;5;124;43m\"\u001b[39;49m\u001b[38;5;124;43mopenff.evaluator.properties\u001b[39;49m\u001b[38;5;124;43m\"\u001b[39;49m\u001b[43m)\u001b[49m\n\u001b[1;32m     23\u001b[0m \u001b[38;5;66;03m# Import the default layers\u001b[39;00m\n\u001b[1;32m     24\u001b[0m importlib\u001b[38;5;241m.\u001b[39mimport_module(\u001b[38;5;124m\"\u001b[39m\u001b[38;5;124mopenff.evaluator.layers.simulation\u001b[39m\u001b[38;5;124m\"\u001b[39m)\n",
      "File \u001b[0;32m~/anaconda3/envs/openff/lib/python3.11/importlib/__init__.py:126\u001b[0m, in \u001b[0;36mimport_module\u001b[0;34m(name, package)\u001b[0m\n\u001b[1;32m    124\u001b[0m             \u001b[38;5;28;01mbreak\u001b[39;00m\n\u001b[1;32m    125\u001b[0m         level \u001b[38;5;241m+\u001b[39m\u001b[38;5;241m=\u001b[39m \u001b[38;5;241m1\u001b[39m\n\u001b[0;32m--> 126\u001b[0m \u001b[38;5;28;01mreturn\u001b[39;00m \u001b[43m_bootstrap\u001b[49m\u001b[38;5;241;43m.\u001b[39;49m\u001b[43m_gcd_import\u001b[49m\u001b[43m(\u001b[49m\u001b[43mname\u001b[49m\u001b[43m[\u001b[49m\u001b[43mlevel\u001b[49m\u001b[43m:\u001b[49m\u001b[43m]\u001b[49m\u001b[43m,\u001b[49m\u001b[43m \u001b[49m\u001b[43mpackage\u001b[49m\u001b[43m,\u001b[49m\u001b[43m \u001b[49m\u001b[43mlevel\u001b[49m\u001b[43m)\u001b[49m\n",
      "File \u001b[0;32m~/anaconda3/envs/openff/lib/python3.11/site-packages/openff/evaluator/properties/__init__.py:1\u001b[0m\n\u001b[0;32m----> 1\u001b[0m \u001b[38;5;28;01mfrom\u001b[39;00m \u001b[38;5;21;01m.\u001b[39;00m\u001b[38;5;21;01mbinding\u001b[39;00m \u001b[38;5;28;01mimport\u001b[39;00m HostGuestBindingAffinity\n\u001b[1;32m      2\u001b[0m \u001b[38;5;28;01mfrom\u001b[39;00m \u001b[38;5;21;01m.\u001b[39;00m\u001b[38;5;21;01mdensity\u001b[39;00m \u001b[38;5;28;01mimport\u001b[39;00m Density, ExcessMolarVolume\n\u001b[1;32m      3\u001b[0m \u001b[38;5;28;01mfrom\u001b[39;00m \u001b[38;5;21;01m.\u001b[39;00m\u001b[38;5;21;01mdielectric\u001b[39;00m \u001b[38;5;28;01mimport\u001b[39;00m DielectricConstant\n",
      "File \u001b[0;32m~/anaconda3/envs/openff/lib/python3.11/site-packages/openff/evaluator/properties/binding.py:10\u001b[0m\n\u001b[1;32m      7\u001b[0m \u001b[38;5;28;01mfrom\u001b[39;00m \u001b[38;5;21;01mopenff\u001b[39;00m\u001b[38;5;21;01m.\u001b[39;00m\u001b[38;5;21;01munits\u001b[39;00m \u001b[38;5;28;01mimport\u001b[39;00m unit\n\u001b[1;32m      9\u001b[0m \u001b[38;5;28;01mfrom\u001b[39;00m \u001b[38;5;21;01mopenff\u001b[39;00m\u001b[38;5;21;01m.\u001b[39;00m\u001b[38;5;21;01mevaluator\u001b[39;00m\u001b[38;5;21;01m.\u001b[39;00m\u001b[38;5;21;01mdatasets\u001b[39;00m \u001b[38;5;28;01mimport\u001b[39;00m PhysicalProperty\n\u001b[0;32m---> 10\u001b[0m \u001b[38;5;28;01mfrom\u001b[39;00m \u001b[38;5;21;01mopenff\u001b[39;00m\u001b[38;5;21;01m.\u001b[39;00m\u001b[38;5;21;01mevaluator\u001b[39;00m\u001b[38;5;21;01m.\u001b[39;00m\u001b[38;5;21;01mlayers\u001b[39;00m \u001b[38;5;28;01mimport\u001b[39;00m register_calculation_schema\n\u001b[1;32m     11\u001b[0m \u001b[38;5;28;01mfrom\u001b[39;00m \u001b[38;5;21;01mopenff\u001b[39;00m\u001b[38;5;21;01m.\u001b[39;00m\u001b[38;5;21;01mevaluator\u001b[39;00m\u001b[38;5;21;01m.\u001b[39;00m\u001b[38;5;21;01mlayers\u001b[39;00m\u001b[38;5;21;01m.\u001b[39;00m\u001b[38;5;21;01msimulation\u001b[39;00m \u001b[38;5;28;01mimport\u001b[39;00m SimulationLayer, SimulationSchema\n\u001b[1;32m     12\u001b[0m \u001b[38;5;28;01mfrom\u001b[39;00m \u001b[38;5;21;01mopenff\u001b[39;00m\u001b[38;5;21;01m.\u001b[39;00m\u001b[38;5;21;01mevaluator\u001b[39;00m\u001b[38;5;21;01m.\u001b[39;00m\u001b[38;5;21;01mprotocols\u001b[39;00m \u001b[38;5;28;01mimport\u001b[39;00m (\n\u001b[1;32m     13\u001b[0m     analysis,\n\u001b[1;32m     14\u001b[0m     coordinates,\n\u001b[0;32m   (...)\u001b[0m\n\u001b[1;32m     18\u001b[0m     yank,\n\u001b[1;32m     19\u001b[0m )\n",
      "File \u001b[0;32m~/anaconda3/envs/openff/lib/python3.11/site-packages/openff/evaluator/layers/__init__.py:1\u001b[0m\n\u001b[0;32m----> 1\u001b[0m \u001b[38;5;28;01mfrom\u001b[39;00m \u001b[38;5;21;01m.\u001b[39;00m\u001b[38;5;21;01mlayers\u001b[39;00m \u001b[38;5;28;01mimport\u001b[39;00m CalculationLayer, CalculationLayerResult, CalculationLayerSchema\n\u001b[1;32m      2\u001b[0m \u001b[38;5;28;01mfrom\u001b[39;00m \u001b[38;5;21;01m.\u001b[39;00m\u001b[38;5;21;01mplugins\u001b[39;00m \u001b[38;5;28;01mimport\u001b[39;00m (\n\u001b[1;32m      3\u001b[0m     calculation_layer,\n\u001b[1;32m      4\u001b[0m     register_calculation_layer,\n\u001b[0;32m   (...)\u001b[0m\n\u001b[1;32m      7\u001b[0m     registered_calculation_schemas,\n\u001b[1;32m      8\u001b[0m )\n\u001b[1;32m     10\u001b[0m __all__ \u001b[38;5;241m=\u001b[39m [\n\u001b[1;32m     11\u001b[0m     calculation_layer,\n\u001b[1;32m     12\u001b[0m     CalculationLayer,\n\u001b[0;32m   (...)\u001b[0m\n\u001b[1;32m     18\u001b[0m     registered_calculation_schemas,\n\u001b[1;32m     19\u001b[0m ]\n",
      "File \u001b[0;32m~/anaconda3/envs/openff/lib/python3.11/site-packages/openff/evaluator/layers/layers.py:18\u001b[0m\n\u001b[1;32m     11\u001b[0m \u001b[38;5;28;01mfrom\u001b[39;00m \u001b[38;5;21;01mopenff\u001b[39;00m\u001b[38;5;21;01m.\u001b[39;00m\u001b[38;5;21;01mevaluator\u001b[39;00m\u001b[38;5;21;01m.\u001b[39;00m\u001b[38;5;21;01mattributes\u001b[39;00m \u001b[38;5;28;01mimport\u001b[39;00m (\n\u001b[1;32m     12\u001b[0m     UNDEFINED,\n\u001b[1;32m     13\u001b[0m     Attribute,\n\u001b[1;32m     14\u001b[0m     AttributeClass,\n\u001b[1;32m     15\u001b[0m     PlaceholderValue,\n\u001b[1;32m     16\u001b[0m )\n\u001b[1;32m     17\u001b[0m \u001b[38;5;28;01mfrom\u001b[39;00m \u001b[38;5;21;01mopenff\u001b[39;00m\u001b[38;5;21;01m.\u001b[39;00m\u001b[38;5;21;01mevaluator\u001b[39;00m\u001b[38;5;21;01m.\u001b[39;00m\u001b[38;5;21;01mdatasets\u001b[39;00m \u001b[38;5;28;01mimport\u001b[39;00m PhysicalProperty\n\u001b[0;32m---> 18\u001b[0m \u001b[38;5;28;01mfrom\u001b[39;00m \u001b[38;5;21;01mopenff\u001b[39;00m\u001b[38;5;21;01m.\u001b[39;00m\u001b[38;5;21;01mevaluator\u001b[39;00m\u001b[38;5;21;01m.\u001b[39;00m\u001b[38;5;21;01mstorage\u001b[39;00m\u001b[38;5;21;01m.\u001b[39;00m\u001b[38;5;21;01mdata\u001b[39;00m \u001b[38;5;28;01mimport\u001b[39;00m BaseStoredData, StoredSimulationData\n\u001b[1;32m     19\u001b[0m \u001b[38;5;28;01mfrom\u001b[39;00m \u001b[38;5;21;01mopenff\u001b[39;00m\u001b[38;5;21;01m.\u001b[39;00m\u001b[38;5;21;01mevaluator\u001b[39;00m\u001b[38;5;21;01m.\u001b[39;00m\u001b[38;5;21;01mutils\u001b[39;00m\u001b[38;5;21;01m.\u001b[39;00m\u001b[38;5;21;01mexceptions\u001b[39;00m \u001b[38;5;28;01mimport\u001b[39;00m EvaluatorException\n\u001b[1;32m     21\u001b[0m logger \u001b[38;5;241m=\u001b[39m logging\u001b[38;5;241m.\u001b[39mgetLogger(\u001b[38;5;18m__name__\u001b[39m)\n",
      "File \u001b[0;32m~/anaconda3/envs/openff/lib/python3.11/site-packages/openff/evaluator/storage/__init__.py:1\u001b[0m\n\u001b[0;32m----> 1\u001b[0m \u001b[38;5;28;01mfrom\u001b[39;00m \u001b[38;5;21;01m.\u001b[39;00m\u001b[38;5;21;01mstorage\u001b[39;00m \u001b[38;5;28;01mimport\u001b[39;00m StorageBackend  \u001b[38;5;66;03m# isort:skip\u001b[39;00m\n\u001b[1;32m      2\u001b[0m \u001b[38;5;28;01mfrom\u001b[39;00m \u001b[38;5;21;01m.\u001b[39;00m\u001b[38;5;21;01mlocalfile\u001b[39;00m \u001b[38;5;28;01mimport\u001b[39;00m LocalFileStorage  \u001b[38;5;66;03m# isort:skip\u001b[39;00m\n\u001b[1;32m      4\u001b[0m __all__ \u001b[38;5;241m=\u001b[39m [\n\u001b[1;32m      5\u001b[0m     LocalFileStorage,\n\u001b[1;32m      6\u001b[0m     StorageBackend,\n\u001b[1;32m      7\u001b[0m ]\n",
      "File \u001b[0;32m~/anaconda3/envs/openff/lib/python3.11/site-packages/openff/evaluator/storage/storage.py:11\u001b[0m\n\u001b[1;32m      8\u001b[0m \u001b[38;5;28;01mfrom\u001b[39;00m \u001b[38;5;21;01mtyping\u001b[39;00m \u001b[38;5;28;01mimport\u001b[39;00m Dict\n\u001b[1;32m     10\u001b[0m \u001b[38;5;28;01mfrom\u001b[39;00m \u001b[38;5;21;01mopenff\u001b[39;00m\u001b[38;5;21;01m.\u001b[39;00m\u001b[38;5;21;01mevaluator\u001b[39;00m\u001b[38;5;21;01m.\u001b[39;00m\u001b[38;5;21;01mattributes\u001b[39;00m \u001b[38;5;28;01mimport\u001b[39;00m Attribute\n\u001b[0;32m---> 11\u001b[0m \u001b[38;5;28;01mfrom\u001b[39;00m \u001b[38;5;21;01mopenff\u001b[39;00m\u001b[38;5;21;01m.\u001b[39;00m\u001b[38;5;21;01mevaluator\u001b[39;00m\u001b[38;5;21;01m.\u001b[39;00m\u001b[38;5;21;01mstorage\u001b[39;00m\u001b[38;5;21;01m.\u001b[39;00m\u001b[38;5;21;01mdata\u001b[39;00m \u001b[38;5;28;01mimport\u001b[39;00m (\n\u001b[1;32m     12\u001b[0m     BaseStoredData,\n\u001b[1;32m     13\u001b[0m     ForceFieldData,\n\u001b[1;32m     14\u001b[0m     HashableStoredData,\n\u001b[1;32m     15\u001b[0m     ReplaceableData,\n\u001b[1;32m     16\u001b[0m )\n\u001b[1;32m     19\u001b[0m \u001b[38;5;28;01mclass\u001b[39;00m \u001b[38;5;21;01mStorageBackend\u001b[39;00m(abc\u001b[38;5;241m.\u001b[39mABC):\n\u001b[1;32m     20\u001b[0m \u001b[38;5;250m    \u001b[39m\u001b[38;5;124;03m\"\"\"An abstract base representation of how the openff-evaluator will\u001b[39;00m\n\u001b[1;32m     21\u001b[0m \u001b[38;5;124;03m    interact with and store simulation data.\u001b[39;00m\n\u001b[1;32m     22\u001b[0m \n\u001b[0;32m   (...)\u001b[0m\n\u001b[1;32m     27\u001b[0m \u001b[38;5;124;03m    private version perform their actual function.\u001b[39;00m\n\u001b[1;32m     28\u001b[0m \u001b[38;5;124;03m    \"\"\"\u001b[39;00m\n",
      "File \u001b[0;32m~/anaconda3/envs/openff/lib/python3.11/site-packages/openff/evaluator/storage/data.py:9\u001b[0m\n\u001b[1;32m      7\u001b[0m \u001b[38;5;28;01mfrom\u001b[39;00m \u001b[38;5;21;01mopenff\u001b[39;00m\u001b[38;5;21;01m.\u001b[39;00m\u001b[38;5;21;01mevaluator\u001b[39;00m\u001b[38;5;21;01m.\u001b[39;00m\u001b[38;5;21;01mattributes\u001b[39;00m \u001b[38;5;28;01mimport\u001b[39;00m AttributeClass\n\u001b[1;32m      8\u001b[0m \u001b[38;5;28;01mfrom\u001b[39;00m \u001b[38;5;21;01mopenff\u001b[39;00m\u001b[38;5;21;01m.\u001b[39;00m\u001b[38;5;21;01mevaluator\u001b[39;00m\u001b[38;5;21;01m.\u001b[39;00m\u001b[38;5;21;01mdatasets\u001b[39;00m \u001b[38;5;28;01mimport\u001b[39;00m PropertyPhase\n\u001b[0;32m----> 9\u001b[0m \u001b[38;5;28;01mfrom\u001b[39;00m \u001b[38;5;21;01mopenff\u001b[39;00m\u001b[38;5;21;01m.\u001b[39;00m\u001b[38;5;21;01mevaluator\u001b[39;00m\u001b[38;5;21;01m.\u001b[39;00m\u001b[38;5;21;01mforcefield\u001b[39;00m \u001b[38;5;28;01mimport\u001b[39;00m ForceFieldSource\n\u001b[1;32m     10\u001b[0m \u001b[38;5;28;01mfrom\u001b[39;00m \u001b[38;5;21;01mopenff\u001b[39;00m\u001b[38;5;21;01m.\u001b[39;00m\u001b[38;5;21;01mevaluator\u001b[39;00m\u001b[38;5;21;01m.\u001b[39;00m\u001b[38;5;21;01mstorage\u001b[39;00m\u001b[38;5;21;01m.\u001b[39;00m\u001b[38;5;21;01mattributes\u001b[39;00m \u001b[38;5;28;01mimport\u001b[39;00m FilePath, StorageAttribute\n\u001b[1;32m     11\u001b[0m \u001b[38;5;28;01mfrom\u001b[39;00m \u001b[38;5;21;01mopenff\u001b[39;00m\u001b[38;5;21;01m.\u001b[39;00m\u001b[38;5;21;01mevaluator\u001b[39;00m\u001b[38;5;21;01m.\u001b[39;00m\u001b[38;5;21;01msubstances\u001b[39;00m \u001b[38;5;28;01mimport\u001b[39;00m Substance\n",
      "File \u001b[0;32m~/anaconda3/envs/openff/lib/python3.11/site-packages/openff/evaluator/forcefield/__init__.py:7\u001b[0m\n\u001b[1;32m      1\u001b[0m \u001b[38;5;28;01mfrom\u001b[39;00m \u001b[38;5;21;01m.\u001b[39;00m\u001b[38;5;21;01mforcefield\u001b[39;00m \u001b[38;5;28;01mimport\u001b[39;00m (\n\u001b[1;32m      2\u001b[0m     ForceFieldSource,\n\u001b[1;32m      3\u001b[0m     LigParGenForceFieldSource,\n\u001b[1;32m      4\u001b[0m     SmirnoffForceFieldSource,\n\u001b[1;32m      5\u001b[0m     TLeapForceFieldSource,\n\u001b[1;32m      6\u001b[0m )\n\u001b[0;32m----> 7\u001b[0m \u001b[38;5;28;01mfrom\u001b[39;00m \u001b[38;5;21;01m.\u001b[39;00m\u001b[38;5;21;01mgradients\u001b[39;00m \u001b[38;5;28;01mimport\u001b[39;00m ParameterGradient, ParameterGradientKey\n\u001b[1;32m      9\u001b[0m __all__ \u001b[38;5;241m=\u001b[39m [\n\u001b[1;32m     10\u001b[0m     ForceFieldSource,\n\u001b[1;32m     11\u001b[0m     SmirnoffForceFieldSource,\n\u001b[0;32m   (...)\u001b[0m\n\u001b[1;32m     15\u001b[0m     ParameterGradientKey,\n\u001b[1;32m     16\u001b[0m ]\n",
      "File \u001b[0;32m~/anaconda3/envs/openff/lib/python3.11/site-packages/openff/evaluator/forcefield/gradients.py:163\u001b[0m\n\u001b[1;32m    155\u001b[0m     \u001b[38;5;28;01mdef\u001b[39;00m \u001b[38;5;21m__eq__\u001b[39m(\u001b[38;5;28mself\u001b[39m, other):\n\u001b[1;32m    156\u001b[0m         \u001b[38;5;28;01mreturn\u001b[39;00m (\n\u001b[1;32m    157\u001b[0m             \u001b[38;5;28misinstance\u001b[39m(other, ParameterGradient)\n\u001b[1;32m    158\u001b[0m             \u001b[38;5;129;01mand\u001b[39;00m \u001b[38;5;28mself\u001b[39m\u001b[38;5;241m.\u001b[39mkey \u001b[38;5;241m==\u001b[39m other\u001b[38;5;241m.\u001b[39mkey\n\u001b[1;32m    159\u001b[0m             \u001b[38;5;129;01mand\u001b[39;00m numpy\u001b[38;5;241m.\u001b[39mallclose(\u001b[38;5;28mself\u001b[39m\u001b[38;5;241m.\u001b[39mvalue, other\u001b[38;5;241m.\u001b[39mvalue)\n\u001b[1;32m    160\u001b[0m         )\n\u001b[0;32m--> 163\u001b[0m \u001b[43mpint\u001b[49m\u001b[38;5;241;43m.\u001b[39;49m\u001b[43mcompat\u001b[49m\u001b[38;5;241;43m.\u001b[39;49m\u001b[43mupcast_types\u001b[49m\u001b[38;5;241m.\u001b[39mappend(ParameterGradient)\n",
      "\u001b[0;31mAttributeError\u001b[0m: module 'pint.compat' has no attribute 'upcast_types'"
     ]
    }
   ],
   "source": [
    "from openff.evaluator.datasets import PropertyPhase\n",
    "#from openff.evaluator.properties import EnthalpyOfVaporization\n",
    "from openff.evaluator.properties import Density\n",
    "\n"
   ]
  },
  {
   "cell_type": "code",
   "execution_count": 69,
   "metadata": {},
   "outputs": [
    {
     "ename": "NameError",
     "evalue": "name 'EnthalpyOfVaporization' is not defined",
     "output_type": "error",
     "traceback": [
      "\u001b[0;31m---------------------------------------------------------------------------\u001b[0m",
      "\u001b[0;31mNameError\u001b[0m                                 Traceback (most recent call last)",
      "Cell \u001b[0;32mIn[69], line 1\u001b[0m\n\u001b[0;32m----> 1\u001b[0m ethanol_hvap \u001b[38;5;241m=\u001b[39m \u001b[43mEnthalpyOfVaporization\u001b[49m(\n\u001b[1;32m      2\u001b[0m     thermodynamic_state\u001b[38;5;241m=\u001b[39mthermodynamic_state,\n\u001b[1;32m      3\u001b[0m     phase\u001b[38;5;241m=\u001b[39mPropertyPhase\u001b[38;5;241m.\u001b[39mLiquid \u001b[38;5;241m|\u001b[39m PropertyPhase\u001b[38;5;241m.\u001b[39mGas,\n\u001b[1;32m      4\u001b[0m     substance\u001b[38;5;241m=\u001b[39methanol,\n\u001b[1;32m      5\u001b[0m     value\u001b[38;5;241m=\u001b[39m\u001b[38;5;241m42.26\u001b[39m \u001b[38;5;241m*\u001b[39m unit\u001b[38;5;241m.\u001b[39mkilojoule \u001b[38;5;241m/\u001b[39m unit\u001b[38;5;241m.\u001b[39mmole,\n\u001b[1;32m      6\u001b[0m     uncertainty\u001b[38;5;241m=\u001b[39m\u001b[38;5;241m0.02\u001b[39m \u001b[38;5;241m*\u001b[39m unit\u001b[38;5;241m.\u001b[39mkilojoule \u001b[38;5;241m/\u001b[39m unit\u001b[38;5;241m.\u001b[39mmole,\n\u001b[1;32m      7\u001b[0m     source\u001b[38;5;241m=\u001b[39msource,\n\u001b[1;32m      8\u001b[0m )\n",
      "\u001b[0;31mNameError\u001b[0m: name 'EnthalpyOfVaporization' is not defined"
     ]
    }
   ],
   "source": [
    "ethanol_hvap = EnthalpyOfVaporization(\n",
    "    thermodynamic_state=thermodynamic_state,\n",
    "    phase=PropertyPhase.Liquid | PropertyPhase.Gas,\n",
    "    substance=ethanol,\n",
    "    value=42.26 * unit.kilojoule / unit.mole,\n",
    "    uncertainty=0.02 * unit.kilojoule / unit.mole,\n",
    "    source=source,\n",
    ")\n"
   ]
  },
  {
   "cell_type": "code",
   "execution_count": 66,
   "metadata": {},
   "outputs": [
    {
     "ename": "NameError",
     "evalue": "name 'EnthalpyOfVaporization' is not defined",
     "output_type": "error",
     "traceback": [
      "\u001b[0;31m---------------------------------------------------------------------------\u001b[0m",
      "\u001b[0;31mNameError\u001b[0m                                 Traceback (most recent call last)",
      "Cell \u001b[0;32mIn[66], line 1\u001b[0m\n\u001b[0;32m----> 1\u001b[0m isopropanol_hvap \u001b[38;5;241m=\u001b[39m \u001b[43mEnthalpyOfVaporization\u001b[49m(\n\u001b[1;32m      2\u001b[0m     thermodynamic_state\u001b[38;5;241m=\u001b[39mthermodynamic_state,\n\u001b[1;32m      3\u001b[0m     phase\u001b[38;5;241m=\u001b[39mPropertyPhase\u001b[38;5;241m.\u001b[39mLiquid \u001b[38;5;241m|\u001b[39m PropertyPhase\u001b[38;5;241m.\u001b[39mGas,\n\u001b[1;32m      4\u001b[0m     substance\u001b[38;5;241m=\u001b[39misopropanol,\n\u001b[1;32m      5\u001b[0m     value\u001b[38;5;241m=\u001b[39m\u001b[38;5;241m45.34\u001b[39m \u001b[38;5;241m*\u001b[39m unit\u001b[38;5;241m.\u001b[39mkilojoule \u001b[38;5;241m/\u001b[39m unit\u001b[38;5;241m.\u001b[39mmole,\n\u001b[1;32m      6\u001b[0m     uncertainty\u001b[38;5;241m=\u001b[39m\u001b[38;5;241m0.02\u001b[39m \u001b[38;5;241m*\u001b[39m unit\u001b[38;5;241m.\u001b[39mkilojoule \u001b[38;5;241m/\u001b[39m unit\u001b[38;5;241m.\u001b[39mmole,\n\u001b[1;32m      7\u001b[0m     source\u001b[38;5;241m=\u001b[39msource,\n\u001b[1;32m      8\u001b[0m )\n",
      "\u001b[0;31mNameError\u001b[0m: name 'EnthalpyOfVaporization' is not defined"
     ]
    }
   ],
   "source": [
    "isopropanol_hvap = EnthalpyOfVaporization(\n",
    "    thermodynamic_state=thermodynamic_state,\n",
    "    phase=PropertyPhase.Liquid | PropertyPhase.Gas,\n",
    "    substance=isopropanol,\n",
    "    value=45.34 * unit.kilojoule / unit.mole,\n",
    "    uncertainty=0.02 * unit.kilojoule / unit.mole,\n",
    "    source=source,\n",
    ")"
   ]
  },
  {
   "cell_type": "markdown",
   "metadata": {
    "id": "qkXOskeG3WQI",
    "pycharm": {
     "name": "#%% md\n"
    }
   },
   "source": [
    "These properties can then be added to our data set:"
   ]
  },
  {
   "cell_type": "code",
   "execution_count": null,
   "metadata": {
    "id": "MVLy9Pus3WQJ",
    "pycharm": {
     "name": "#%%\n"
    }
   },
   "outputs": [],
   "source": [
    "data_set.add_properties(ethanol_hvap, isopropanol_hvap)"
   ]
  },
  {
   "cell_type": "markdown",
   "metadata": {
    "id": "IXvNfKbG3WQO"
   },
   "source": [
    "If we print the data set again using pandas we should see that our new measurements have been added:"
   ]
  },
  {
   "cell_type": "code",
   "execution_count": null,
   "metadata": {
    "id": "WztbDFxA3WQQ",
    "pycharm": {
     "name": "#%%\n"
    }
   },
   "outputs": [],
   "source": [
    "pandas_data_set = data_set.to_pandas()\n",
    "pandas_data_set[\n",
    "    [\n",
    "        \"Temperature (K)\",\n",
    "        \"Pressure (kPa)\",\n",
    "        \"Component 1\",\n",
    "        \"Density Value (g / ml)\",\n",
    "        \"EnthalpyOfVaporization Value (kJ / mol)\",\n",
    "        \"Source\",\n",
    "    ]\n",
    "].head()"
   ]
  },
  {
   "cell_type": "markdown",
   "metadata": {
    "id": "XZDGlVrE3WQU",
    "pycharm": {
     "name": "#%% md\n"
    }
   },
   "source": [
    "## Conclusion\n",
    "\n",
    "We will finish off this tutorial by saving the data set we have created as a JSON file for future use:"
   ]
  },
  {
   "cell_type": "code",
   "execution_count": null,
   "metadata": {
    "id": "HrhoALaI3WQV",
    "pycharm": {
     "name": "#%%\n"
    }
   },
   "outputs": [],
   "source": [
    "data_set.json(\"filtered_data_set.json\", format=True);"
   ]
  },
  {
   "cell_type": "markdown",
   "metadata": {
    "id": "8FmNVb3r3WQb"
   },
   "source": [
    "And that concludes the first tutorial. For more information about data sets in the Evaluator framework check out the\n",
    "[data set](../datasets/physicalproperties.rst) and [ThermoML](../datasets/thermomldatasets.rst) documentation.\n",
    "\n",
    "In the next tutorial we will be estimating the data set we have created here using molecular simulation.\n",
    "\n",
    "If you have any questions and / or feedback, please open an issue on the\n",
    "[GitHub issue tracker](https://github.com/openforcefield/openff-evaluator/issues)."
   ]
  }
 ],
 "metadata": {
  "colab": {
   "name": "tutorial01.ipynb",
   "provenance": []
  },
  "kernelspec": {
   "display_name": "Python 3 (ipykernel)",
   "language": "python",
   "name": "python3"
  },
  "language_info": {
   "codemirror_mode": {
    "name": "ipython",
    "version": 3
   },
   "file_extension": ".py",
   "mimetype": "text/x-python",
   "name": "python",
   "nbconvert_exporter": "python",
   "pygments_lexer": "ipython3",
   "version": "3.11.4"
  },
  "vscode": {
   "interpreter": {
    "hash": "410f84a7dee2fd8da3e676bc69193e1fbd008e9a63ed8da16ae0332e91fd8194"
   }
  }
 },
 "nbformat": 4,
 "nbformat_minor": 1
}
