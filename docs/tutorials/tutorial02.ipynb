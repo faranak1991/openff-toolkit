{
  "cells": [
    {
      "cell_type": "markdown",
      "metadata": {
        "id": "1adKOSfooSU5",
        "pycharm": {
          "name": "#%% md\n"
        }
      },
      "source": [
        "# Tutorial 02 - Estimating Data Sets\n",
        "\n",
        "[![Open In Colab](https://colab.research.google.com/assets/colab-badge.svg)](https://colab.research.google.com/github/openforcefield/openff-evaluator/blob/main/docs/tutorials/tutorial02.ipynb)\n",
        "\n",
        "In this tutorial we will be estimating the data set we created in the [first tutorial](tutorial01.ipynb) using molecular\n",
        "simulation. The tutorial will cover:\n",
        "\n",
        "- loading in the data set to estimate, and the force field parameters to use in the calculations.\n",
        "- defining custom calculation schemas for the properties in our data set.\n",
        "- estimating the data set of properties using an [Evaluator server](../gettingstarted/server.rst) instance.\n",
        "- retrieving the results from the server and storing them on disk."
      ]
    },
    {
      "cell_type": "markdown",
      "metadata": {
        "id": "x9Qd3qlAoSU8"
      },
      "source": [
        "*Note: If you are running this tutorial in google colab you will need to run a setup script instead of following the\n",
        "installation instructions:*"
      ]
    },
    {
      "cell_type": "code",
      "execution_count": 8,
      "metadata": {
        "id": "lp7HdaO9oSU9",
        "pycharm": {
          "name": "#%%\n"
        }
      },
      "outputs": [],
      "source": [
        "# !wget https://raw.githubusercontent.com/openforcefield/openff-evaluator/main/docs/tutorials/colab_setup.ipynb\n",
        "# %run colab_setup.ipynb"
      ]
    },
    {
      "cell_type": "markdown",
      "metadata": {
        "id": "TfarnlY3oSVC"
      },
      "source": [
        "*For this tutorial make sure that you are using a GPU accelerated runtime.*\n",
        "\n",
        "For the sake of clarity all warnings will be disabled in this tutorial:"
      ]
    },
    {
      "cell_type": "code",
      "execution_count": 4,
      "metadata": {
        "id": "cTYERblroSVE",
        "pycharm": {
          "name": "#%%\n"
        }
      },
      "outputs": [],
      "source": [
        "import warnings\n",
        "\n",
        "warnings.filterwarnings(\"ignore\")\n",
        "import logging\n",
        "\n",
        "logging.getLogger(\"openff.toolkit\").setLevel(logging.ERROR)"
      ]
    },
    {
      "cell_type": "markdown",
      "metadata": {
        "id": "wsn5fI_hoSVJ"
      },
      "source": [
        "We will also enable time-stamped logging to help track the progress of our calculations:"
      ]
    },
    {
      "cell_type": "code",
      "execution_count": 5,
      "metadata": {
        "colab": {
          "base_uri": "https://localhost:8080/",
          "height": 323
        },
        "id": "VjmBPJGfoSVL",
        "pycharm": {
          "name": "#%%\n"
        },
        "outputId": "3b1fe8d5-e7e5-4a42-c34e-472f0cd40626"
      },
      "outputs": [
        {
          "output_type": "error",
          "ename": "ModuleNotFoundError",
          "evalue": "ignored",
          "traceback": [
            "\u001b[0;31m---------------------------------------------------------------------------\u001b[0m",
            "\u001b[0;31mModuleNotFoundError\u001b[0m                       Traceback (most recent call last)",
            "\u001b[0;32m<ipython-input-5-f88baeb725b4>\u001b[0m in \u001b[0;36m<cell line: 1>\u001b[0;34m()\u001b[0m\n\u001b[0;32m----> 1\u001b[0;31m \u001b[0;32mfrom\u001b[0m \u001b[0mopenff\u001b[0m\u001b[0;34m.\u001b[0m\u001b[0mevaluator\u001b[0m\u001b[0;34m.\u001b[0m\u001b[0mutils\u001b[0m \u001b[0;32mimport\u001b[0m \u001b[0msetup_timestamp_logging\u001b[0m\u001b[0;34m\u001b[0m\u001b[0;34m\u001b[0m\u001b[0m\n\u001b[0m\u001b[1;32m      2\u001b[0m \u001b[0;34m\u001b[0m\u001b[0m\n\u001b[1;32m      3\u001b[0m \u001b[0msetup_timestamp_logging\u001b[0m\u001b[0;34m(\u001b[0m\u001b[0;34m)\u001b[0m\u001b[0;34m\u001b[0m\u001b[0;34m\u001b[0m\u001b[0m\n",
            "\u001b[0;31mModuleNotFoundError\u001b[0m: No module named 'openff'",
            "",
            "\u001b[0;31m---------------------------------------------------------------------------\u001b[0;32m\nNOTE: If your import is failing due to a missing package, you can\nmanually install dependencies using either !pip or !apt.\n\nTo view examples of installing some common dependencies, click the\n\"Open Examples\" button below.\n\u001b[0;31m---------------------------------------------------------------------------\u001b[0m\n"
          ],
          "errorDetails": {
            "actions": [
              {
                "action": "open_url",
                "actionText": "Open Examples",
                "url": "/notebooks/snippets/importing_libraries.ipynb"
              }
            ]
          }
        }
      ],
      "source": [
        "from openff.evaluator.utils import setup_timestamp_logging\n",
        "\n",
        "setup_timestamp_logging()"
      ]
    },
    {
      "cell_type": "markdown",
      "metadata": {
        "id": "OTDUNKu3oSVP",
        "pycharm": {
          "name": "#%% md\n"
        }
      },
      "source": [
        "## Loading the Data Set and Force Field Parameters\n",
        "\n",
        "We will begin by loading in the data set which we created in the previous tutorial:"
      ]
    },
    {
      "cell_type": "code",
      "execution_count": null,
      "metadata": {
        "id": "E3_ZeNPmoSVR",
        "pycharm": {
          "name": "#%%\n"
        }
      },
      "outputs": [],
      "source": [
        "import pathlib\n",
        "\n",
        "from openff.evaluator.datasets import PhysicalPropertyDataSet\n",
        "\n",
        "data_set_path = \"filtered_data_set.json\"\n",
        "\n",
        "\n",
        "# If you have not yet completed that tutorial or do not have the data set file\n",
        "# available, this tutorial will use a copies provided by the framework\n",
        "\n",
        "if not pathlib.Path(data_set_path).exists():\n",
        "    from openff.evaluator.utils import get_data_filename\n",
        "\n",
        "    data_set_path = get_data_filename(\"tutorials/tutorial01/filtered_data_set.json\")\n",
        "\n",
        "data_set = PhysicalPropertyDataSet.from_json(data_set_path)"
      ]
    },
    {
      "cell_type": "markdown",
      "metadata": {
        "id": "Ebkp-6LwoSVW"
      },
      "source": [
        "As a reminder, this data contains the experimentally measured density and $H_{vap}$ measurements for ethanol and\n",
        "isopropanol at ambient conditions:"
      ]
    },
    {
      "cell_type": "code",
      "execution_count": null,
      "metadata": {
        "id": "ekwbH95noSVY",
        "pycharm": {
          "name": "#%%\n"
        }
      },
      "outputs": [],
      "source": [
        "data_set.to_pandas().head()"
      ]
    },
    {
      "cell_type": "markdown",
      "metadata": {
        "id": "lVxc5Li3oSVd"
      },
      "source": [
        "We will also define the set of force field parameters which we wish to use to estimate this data set of properties. The\n",
        "framework has support for estimating force field parameters from a range of sources, including those in the OpenFF\n",
        "[SMIRNOFF format](https://open-forcefield-toolkit.readthedocs.io/en/latest/smirnoff.html), those which can be applied by\n",
        "[AmberTools](https://ambermd.org/AmberTools.php), [and more](../gettingstarted/client.rst).\n",
        "\n",
        "Each source of a force field has a corresponding source object in the framework. In this tutorial we will be using the\n",
        "OpenFF Parsley force field which is based off of the SMIRNOFF format:"
      ]
    },
    {
      "cell_type": "code",
      "execution_count": null,
      "metadata": {
        "id": "IG3NNKHdoSVf",
        "pycharm": {
          "name": "#%%\n"
        }
      },
      "outputs": [],
      "source": [
        "from openff.evaluator.forcefield import SmirnoffForceFieldSource\n",
        "\n",
        "force_field_path = \"openff-1.0.0.offxml\"\n",
        "force_field_source = SmirnoffForceFieldSource.from_path(force_field_path)"
      ]
    },
    {
      "cell_type": "markdown",
      "metadata": {
        "id": "attbV8Y-oSVj"
      },
      "source": [
        "## Defining the Calculation Schemas\n",
        "\n",
        "The next step we will take will be to define a custom calculation schema for each type of property in our data set.\n",
        "\n",
        "A calculation schema is the blueprint for how a type of property should be calculated using a particular\n",
        "[calculation approach](../layers/calculationlayers.rst), such as directly by simulation, by reprocessing cached\n",
        "simulation data or, in future, a range of other options.\n",
        "\n",
        "The framework has built-in schemas defining how densities and $H_{vap}$ should be estimated from molecular simulation,\n",
        "covering all aspects from coordinate generation, force field assignment, energy minimisation, equilibration and finally\n",
        "the production simulation and data analysis. All of this functionality is implemented via the frameworks built-in,\n",
        "lightweight [workflow engine](../workflows/workflows.rst), however we won't dive into the details of this until a later\n",
        "tutorial.\n",
        "\n",
        "For the purpose of this tutorial, we will simply modify the default calculation schemas to reduce the number of\n",
        "molecules to include in our simulations to speed up the calculations. This step can be skipped entirely if the default\n",
        "options (which we recommend using for 'real-world' calculations) are to be used:"
      ]
    },
    {
      "cell_type": "code",
      "execution_count": null,
      "metadata": {
        "id": "QfMb452WoSVk",
        "pycharm": {
          "name": "#%%\n"
        }
      },
      "outputs": [],
      "source": [
        "from openff.evaluator.properties import Density, EnthalpyOfVaporization\n",
        "\n",
        "density_schema = Density.default_simulation_schema(n_molecules=256)\n",
        "h_vap_schema = EnthalpyOfVaporization.default_simulation_schema(n_molecules=256)"
      ]
    },
    {
      "cell_type": "markdown",
      "metadata": {
        "id": "_O3S6NMcoSVp"
      },
      "source": [
        "We could further use this method to set either the absolute or the relative uncertainty that the property should be\n",
        "estimated to within. If either of these are set, the simulations will automatically be extended until the target\n",
        "uncertainty in the property has been met.\n",
        "\n",
        "For our purposes however we won't set any targets, leaving the simulations to run for the default 1 ns.\n",
        "\n",
        "To use these custom schemas, we need to add them to the a request options object which defines all of the options\n",
        "for estimating our data set:"
      ]
    },
    {
      "cell_type": "code",
      "execution_count": null,
      "metadata": {
        "id": "f-1zbAbboSVr",
        "pycharm": {
          "name": "#%%\n"
        }
      },
      "outputs": [],
      "source": [
        "from openff.evaluator.client import RequestOptions\n",
        "\n",
        "# Create an options object which defines how the data set should be estimated.\n",
        "estimation_options = RequestOptions()\n",
        "# Specify that we only wish to use molecular simulation to estimate the data set.\n",
        "estimation_options.calculation_layers = [\"SimulationLayer\"]\n",
        "\n",
        "# Add our custom schemas, specifying that the should be used by the 'SimulationLayer'\n",
        "estimation_options.add_schema(\"SimulationLayer\", \"Density\", density_schema)\n",
        "estimation_options.add_schema(\"SimulationLayer\", \"EnthalpyOfVaporization\", h_vap_schema)"
      ]
    },
    {
      "cell_type": "markdown",
      "metadata": {
        "id": "6oLOzaE5oSVv"
      },
      "source": [
        "## Launching the Server\n",
        "\n",
        "The framework is split into two main applications - an `EvaluatorServer` and an `EvaluatorClient`.\n",
        "\n",
        "The `EvaluatorServer` is the main object which will perform any and all calculations needed to estimate sets of\n",
        "properties. It is design to run on whichever compute resources you may have available (whether that be a single machine\n",
        "or a high performance cluster), wait until a user requests a set of properties be estimated, and then handle that\n",
        "request.\n",
        "\n",
        "The `EvaluatorClient` is the object used by the user to send requests to estimate data sets to running server instances\n",
        "over a TCP connection. It is also used to query the server to see when that request has been fulfilled, and to pull back\n",
        "any results.\n",
        "\n",
        "Let us begin by spawning a new server instance.\n",
        "\n",
        "To launch a server, we need to define how this object is going to interact with the compute resource it is running on.\n",
        "\n",
        "This is accomplished using a [calculation backend](../backends/calculationbackend.rst). While there are several to\n",
        "choose from depending on your needs, well will go with a simple `dask` based one designed to run on a single machine:"
      ]
    },
    {
      "cell_type": "code",
      "execution_count": null,
      "metadata": {
        "id": "HwYhG5O1oSVw",
        "pycharm": {
          "name": "#%%\n"
        }
      },
      "outputs": [],
      "source": [
        "import os\n",
        "\n",
        "from openff.evaluator.backends import ComputeResources\n",
        "from openff.evaluator.backends.dask import DaskLocalCluster\n",
        "\n",
        "os.environ[\"CUDA_VISIBLE_DEVICES\"] = \"0\"\n",
        "\n",
        "calculation_backend = DaskLocalCluster(\n",
        "    number_of_workers=1,\n",
        "    resources_per_worker=ComputeResources(\n",
        "        number_of_threads=1,\n",
        "        number_of_gpus=1,\n",
        "        preferred_gpu_toolkit=ComputeResources.GPUToolkit.CUDA,\n",
        "    ),\n",
        ")\n",
        "calculation_backend.start()"
      ]
    },
    {
      "cell_type": "markdown",
      "metadata": {
        "id": "n0KuNxcgoSV1"
      },
      "source": [
        "Here we have specified that we want to run our calculations on a single worker which has access to a single GPU.\n",
        "\n",
        "With that defined, we can go ahead and spin up the server:"
      ]
    },
    {
      "cell_type": "code",
      "execution_count": null,
      "metadata": {
        "id": "wo8JdqKooSV2",
        "pycharm": {
          "name": "#%%\n"
        }
      },
      "outputs": [],
      "source": [
        "from openff.evaluator.server import EvaluatorServer\n",
        "\n",
        "evaluator_server = EvaluatorServer(calculation_backend=calculation_backend)\n",
        "evaluator_server.start(asynchronous=True)"
      ]
    },
    {
      "cell_type": "markdown",
      "metadata": {
        "id": "I2_Q7QmPoSV7"
      },
      "source": [
        "The server will run asynchronously in the background waiting until a client connects and requests that a data set be\n",
        "estimated.\n",
        "\n",
        "## Estimating the Data Set\n",
        "\n",
        "With the server spun up we can go ahead and connect to it using an `EvaluatorClient` and request that it estimate our\n",
        "data set using the custom options we defined earlier:"
      ]
    },
    {
      "cell_type": "code",
      "execution_count": null,
      "metadata": {
        "id": "N2BgAbafoSV8",
        "pycharm": {
          "name": "#%%\n"
        }
      },
      "outputs": [],
      "source": [
        "from openff.evaluator.client import EvaluatorClient\n",
        "\n",
        "evaluator_client = EvaluatorClient()\n",
        "\n",
        "request, exception = evaluator_client.request_estimate(\n",
        "    property_set=data_set,\n",
        "    force_field_source=force_field_source,\n",
        "    options=estimation_options,\n",
        ")\n",
        "\n",
        "assert exception is None"
      ]
    },
    {
      "cell_type": "markdown",
      "metadata": {
        "id": "ydTfQgsWoSWB"
      },
      "source": [
        "The server will now receive the requests and begin whirring away fulfilling it. It should be noted that the\n",
        "`request_estimate()` function returns two values - a `request` object, and an `exception` object. If all went well (as\n",
        " it should do here) the `exception` object will be `None`.\n",
        "\n",
        " The `request` object represents the request which we just sent to the server. It stores the unique id which the server\n",
        " assigned to the request, as well as the address of the server that the request was sent to.\n",
        "\n",
        " The `request` object is primarily used to query the current state of our request, and to pull down the results when\n",
        " it the request finishes. Here we will use it it synchronously query the server every 30 seconds until our request has\n",
        " completed."
      ]
    },
    {
      "cell_type": "code",
      "execution_count": null,
      "metadata": {
        "id": "JL6Dh0vMoSWD",
        "pycharm": {
          "name": "#%%\n"
        }
      },
      "outputs": [],
      "source": [
        "# Wait for the results.\n",
        "results, exception = request.results(synchronous=True, polling_interval=30)\n",
        "assert exception is None"
      ]
    },
    {
      "cell_type": "markdown",
      "metadata": {
        "id": "PkQxhup2oSWI"
      },
      "source": [
        "*Note: we could also asynchronously query for the results of the request. The resultant results object would then\n",
        "contain the partial results of any completed estimates, as well as any exceptions raised during the estimation.*\n",
        "\n",
        "## Inspecting the Results\n",
        "\n",
        "Now that the server has finished estimating our data set and returned the results to us, we can begin to inspect the\n",
        "results of the calculations:"
      ]
    },
    {
      "cell_type": "code",
      "execution_count": null,
      "metadata": {
        "id": "ZHdILm6xoSWJ",
        "pycharm": {
          "name": "#%%\n"
        }
      },
      "outputs": [],
      "source": [
        "print(len(results.queued_properties))\n",
        "\n",
        "print(len(results.estimated_properties))\n",
        "\n",
        "print(len(results.unsuccessful_properties))\n",
        "print(len(results.exceptions))"
      ]
    },
    {
      "cell_type": "markdown",
      "metadata": {
        "id": "UwJcIvzFoSWO"
      },
      "source": [
        "We can (hopefully) see here that there were no exceptions raised during the calculation, and that all of our properties\n",
        "were successfully estimated.\n",
        "\n",
        "We will extract the estimated data set and save this to disk:"
      ]
    },
    {
      "cell_type": "code",
      "execution_count": null,
      "metadata": {
        "id": "2X5wCljioSWP",
        "pycharm": {
          "name": "#%%\n"
        }
      },
      "outputs": [],
      "source": [
        "results.estimated_properties.json(\"estimated_data_set.json\", format=True);"
      ]
    },
    {
      "cell_type": "markdown",
      "metadata": {
        "id": "H7mpER-ToSWT"
      },
      "source": [
        "## Conclusion\n",
        "\n",
        "And that concludes the second tutorial. In the next tutorial we will be performing some basic analysis on our estimated\n",
        "results.\n",
        "\n",
        "If you have any questions and / or feedback, please open an issue on the\n",
        "[GitHub issue tracker](https://github.com/openforcefield/openff-evaluator/issues).\n"
      ]
    }
  ],
  "metadata": {
    "accelerator": "GPU",
    "colab": {
      "name": "tutorial02.ipynb",
      "provenance": []
    },
    "kernelspec": {
      "display_name": "evaluator-test-env",
      "language": "python",
      "name": "python3"
    },
    "language_info": {
      "codemirror_mode": {
        "name": "ipython",
        "version": 3
      },
      "file_extension": ".py",
      "mimetype": "text/x-python",
      "name": "python",
      "nbconvert_exporter": "python",
      "pygments_lexer": "ipython3",
      "version": "3.10.9"
    },
    "vscode": {
      "interpreter": {
        "hash": "410f84a7dee2fd8da3e676bc69193e1fbd008e9a63ed8da16ae0332e91fd8194"
      }
    }
  },
  "nbformat": 4,
  "nbformat_minor": 0
}